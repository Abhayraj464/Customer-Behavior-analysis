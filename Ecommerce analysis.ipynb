{
 "cells": [
  {
   "cell_type": "code",
   "execution_count": 1,
   "id": "9e87b3e7",
   "metadata": {},
   "outputs": [],
   "source": [
    "import pandas as pd\n",
    "import seaborn as sns\n",
    "import matplotlib.pyplot as plt\n",
    "import missingno as msno"
   ]
  },
  {
   "cell_type": "code",
   "execution_count": 2,
   "id": "f06874cc",
   "metadata": {},
   "outputs": [
    {
     "data": {
      "text/html": [
       "<div>\n",
       "<style scoped>\n",
       "    .dataframe tbody tr th:only-of-type {\n",
       "        vertical-align: middle;\n",
       "    }\n",
       "\n",
       "    .dataframe tbody tr th {\n",
       "        vertical-align: top;\n",
       "    }\n",
       "\n",
       "    .dataframe thead th {\n",
       "        text-align: right;\n",
       "    }\n",
       "</style>\n",
       "<table border=\"1\" class=\"dataframe\">\n",
       "  <thead>\n",
       "    <tr style=\"text-align: right;\">\n",
       "      <th></th>\n",
       "      <th>User_ID</th>\n",
       "      <th>Gender</th>\n",
       "      <th>Age</th>\n",
       "      <th>Location</th>\n",
       "      <th>Device_Type</th>\n",
       "      <th>Product_Browsing_Time</th>\n",
       "      <th>Total_Pages_Viewed</th>\n",
       "      <th>Items_Added_to_Cart</th>\n",
       "      <th>Total_Purchases</th>\n",
       "    </tr>\n",
       "  </thead>\n",
       "  <tbody>\n",
       "    <tr>\n",
       "      <th>0</th>\n",
       "      <td>1</td>\n",
       "      <td>Female</td>\n",
       "      <td>23</td>\n",
       "      <td>Ahmedabad</td>\n",
       "      <td>Mobile</td>\n",
       "      <td>60</td>\n",
       "      <td>30</td>\n",
       "      <td>1</td>\n",
       "      <td>0</td>\n",
       "    </tr>\n",
       "    <tr>\n",
       "      <th>1</th>\n",
       "      <td>2</td>\n",
       "      <td>Male</td>\n",
       "      <td>25</td>\n",
       "      <td>Kolkata</td>\n",
       "      <td>Tablet</td>\n",
       "      <td>30</td>\n",
       "      <td>38</td>\n",
       "      <td>9</td>\n",
       "      <td>4</td>\n",
       "    </tr>\n",
       "    <tr>\n",
       "      <th>2</th>\n",
       "      <td>3</td>\n",
       "      <td>Male</td>\n",
       "      <td>32</td>\n",
       "      <td>Bangalore</td>\n",
       "      <td>Desktop</td>\n",
       "      <td>37</td>\n",
       "      <td>13</td>\n",
       "      <td>5</td>\n",
       "      <td>0</td>\n",
       "    </tr>\n",
       "    <tr>\n",
       "      <th>3</th>\n",
       "      <td>4</td>\n",
       "      <td>Male</td>\n",
       "      <td>35</td>\n",
       "      <td>Delhi</td>\n",
       "      <td>Mobile</td>\n",
       "      <td>7</td>\n",
       "      <td>20</td>\n",
       "      <td>10</td>\n",
       "      <td>3</td>\n",
       "    </tr>\n",
       "    <tr>\n",
       "      <th>4</th>\n",
       "      <td>5</td>\n",
       "      <td>Male</td>\n",
       "      <td>27</td>\n",
       "      <td>Bangalore</td>\n",
       "      <td>Tablet</td>\n",
       "      <td>35</td>\n",
       "      <td>20</td>\n",
       "      <td>8</td>\n",
       "      <td>2</td>\n",
       "    </tr>\n",
       "    <tr>\n",
       "      <th>...</th>\n",
       "      <td>...</td>\n",
       "      <td>...</td>\n",
       "      <td>...</td>\n",
       "      <td>...</td>\n",
       "      <td>...</td>\n",
       "      <td>...</td>\n",
       "      <td>...</td>\n",
       "      <td>...</td>\n",
       "      <td>...</td>\n",
       "    </tr>\n",
       "    <tr>\n",
       "      <th>495</th>\n",
       "      <td>496</td>\n",
       "      <td>Male</td>\n",
       "      <td>24</td>\n",
       "      <td>Mumbai</td>\n",
       "      <td>Tablet</td>\n",
       "      <td>40</td>\n",
       "      <td>45</td>\n",
       "      <td>0</td>\n",
       "      <td>0</td>\n",
       "    </tr>\n",
       "    <tr>\n",
       "      <th>496</th>\n",
       "      <td>497</td>\n",
       "      <td>Female</td>\n",
       "      <td>24</td>\n",
       "      <td>Hyderabad</td>\n",
       "      <td>Desktop</td>\n",
       "      <td>8</td>\n",
       "      <td>34</td>\n",
       "      <td>4</td>\n",
       "      <td>5</td>\n",
       "    </tr>\n",
       "    <tr>\n",
       "      <th>497</th>\n",
       "      <td>498</td>\n",
       "      <td>Male</td>\n",
       "      <td>19</td>\n",
       "      <td>Pune</td>\n",
       "      <td>Desktop</td>\n",
       "      <td>33</td>\n",
       "      <td>41</td>\n",
       "      <td>0</td>\n",
       "      <td>3</td>\n",
       "    </tr>\n",
       "    <tr>\n",
       "      <th>498</th>\n",
       "      <td>499</td>\n",
       "      <td>Male</td>\n",
       "      <td>28</td>\n",
       "      <td>Chennai</td>\n",
       "      <td>Desktop</td>\n",
       "      <td>6</td>\n",
       "      <td>32</td>\n",
       "      <td>7</td>\n",
       "      <td>4</td>\n",
       "    </tr>\n",
       "    <tr>\n",
       "      <th>499</th>\n",
       "      <td>500</td>\n",
       "      <td>Female</td>\n",
       "      <td>31</td>\n",
       "      <td>Kolkata</td>\n",
       "      <td>Mobile</td>\n",
       "      <td>16</td>\n",
       "      <td>10</td>\n",
       "      <td>10</td>\n",
       "      <td>4</td>\n",
       "    </tr>\n",
       "  </tbody>\n",
       "</table>\n",
       "<p>500 rows × 9 columns</p>\n",
       "</div>"
      ],
      "text/plain": [
       "     User_ID  Gender  Age   Location Device_Type  Product_Browsing_Time  \\\n",
       "0          1  Female   23  Ahmedabad      Mobile                     60   \n",
       "1          2    Male   25    Kolkata      Tablet                     30   \n",
       "2          3    Male   32  Bangalore     Desktop                     37   \n",
       "3          4    Male   35      Delhi      Mobile                      7   \n",
       "4          5    Male   27  Bangalore      Tablet                     35   \n",
       "..       ...     ...  ...        ...         ...                    ...   \n",
       "495      496    Male   24     Mumbai      Tablet                     40   \n",
       "496      497  Female   24  Hyderabad     Desktop                      8   \n",
       "497      498    Male   19       Pune     Desktop                     33   \n",
       "498      499    Male   28    Chennai     Desktop                      6   \n",
       "499      500  Female   31    Kolkata      Mobile                     16   \n",
       "\n",
       "     Total_Pages_Viewed  Items_Added_to_Cart  Total_Purchases  \n",
       "0                    30                    1                0  \n",
       "1                    38                    9                4  \n",
       "2                    13                    5                0  \n",
       "3                    20                   10                3  \n",
       "4                    20                    8                2  \n",
       "..                  ...                  ...              ...  \n",
       "495                  45                    0                0  \n",
       "496                  34                    4                5  \n",
       "497                  41                    0                3  \n",
       "498                  32                    7                4  \n",
       "499                  10                   10                4  \n",
       "\n",
       "[500 rows x 9 columns]"
      ]
     },
     "execution_count": 2,
     "metadata": {},
     "output_type": "execute_result"
    }
   ],
   "source": [
    "data = pd.read_csv('C:/Users/Windows10/Downloads/ecommerce_customer_data.csv')\n",
    "data"
   ]
  },
  {
   "cell_type": "code",
   "execution_count": 3,
   "id": "d38e9fd4",
   "metadata": {},
   "outputs": [
    {
     "name": "stdout",
     "output_type": "stream",
     "text": [
      "<class 'pandas.core.frame.DataFrame'>\n",
      "RangeIndex: 500 entries, 0 to 499\n",
      "Data columns (total 9 columns):\n",
      " #   Column                 Non-Null Count  Dtype \n",
      "---  ------                 --------------  ----- \n",
      " 0   User_ID                500 non-null    int64 \n",
      " 1   Gender                 500 non-null    object\n",
      " 2   Age                    500 non-null    int64 \n",
      " 3   Location               500 non-null    object\n",
      " 4   Device_Type            500 non-null    object\n",
      " 5   Product_Browsing_Time  500 non-null    int64 \n",
      " 6   Total_Pages_Viewed     500 non-null    int64 \n",
      " 7   Items_Added_to_Cart    500 non-null    int64 \n",
      " 8   Total_Purchases        500 non-null    int64 \n",
      "dtypes: int64(6), object(3)\n",
      "memory usage: 35.3+ KB\n"
     ]
    }
   ],
   "source": [
    "data.info()"
   ]
  },
  {
   "cell_type": "code",
   "execution_count": 4,
   "id": "096c79f2",
   "metadata": {},
   "outputs": [
    {
     "data": {
      "text/plain": [
       "User_ID                  0\n",
       "Gender                   0\n",
       "Age                      0\n",
       "Location                 0\n",
       "Device_Type              0\n",
       "Product_Browsing_Time    0\n",
       "Total_Pages_Viewed       0\n",
       "Items_Added_to_Cart      0\n",
       "Total_Purchases          0\n",
       "dtype: int64"
      ]
     },
     "execution_count": 4,
     "metadata": {},
     "output_type": "execute_result"
    }
   ],
   "source": [
    "data.isnull().sum()"
   ]
  },
  {
   "cell_type": "code",
   "execution_count": 5,
   "id": "4c228331",
   "metadata": {},
   "outputs": [
    {
     "data": {
      "text/plain": [
       "array(['Mobile', 'Tablet', 'Desktop'], dtype=object)"
      ]
     },
     "execution_count": 5,
     "metadata": {},
     "output_type": "execute_result"
    }
   ],
   "source": [
    "data['Device_Type'].unique()"
   ]
  },
  {
   "cell_type": "code",
   "execution_count": 6,
   "id": "842b8a32",
   "metadata": {},
   "outputs": [
    {
     "data": {
      "text/plain": [
       "array(['Ahmedabad', 'Kolkata', 'Bangalore', 'Delhi', 'Pune', 'Mumbai',\n",
       "       'Hyderabad', 'Chennai'], dtype=object)"
      ]
     },
     "execution_count": 6,
     "metadata": {},
     "output_type": "execute_result"
    }
   ],
   "source": [
    "data['Location'].unique()"
   ]
  },
  {
   "cell_type": "code",
   "execution_count": 7,
   "id": "0acff9fe",
   "metadata": {},
   "outputs": [
    {
     "data": {
      "text/plain": [
       "array(['Female', 'Male'], dtype=object)"
      ]
     },
     "execution_count": 7,
     "metadata": {},
     "output_type": "execute_result"
    }
   ],
   "source": [
    "data['Gender'].unique()"
   ]
  },
  {
   "cell_type": "code",
   "execution_count": 8,
   "id": "294e5577",
   "metadata": {},
   "outputs": [
    {
     "data": {
      "text/html": [
       "<div>\n",
       "<style scoped>\n",
       "    .dataframe tbody tr th:only-of-type {\n",
       "        vertical-align: middle;\n",
       "    }\n",
       "\n",
       "    .dataframe tbody tr th {\n",
       "        vertical-align: top;\n",
       "    }\n",
       "\n",
       "    .dataframe thead th {\n",
       "        text-align: right;\n",
       "    }\n",
       "</style>\n",
       "<table border=\"1\" class=\"dataframe\">\n",
       "  <thead>\n",
       "    <tr style=\"text-align: right;\">\n",
       "      <th></th>\n",
       "      <th>User_ID</th>\n",
       "      <th>Gender</th>\n",
       "      <th>Age</th>\n",
       "      <th>Location</th>\n",
       "      <th>Device_Type</th>\n",
       "      <th>Product_Browsing_Time</th>\n",
       "      <th>Total_Pages_Viewed</th>\n",
       "      <th>Items_Added_to_Cart</th>\n",
       "      <th>Total_Purchases</th>\n",
       "    </tr>\n",
       "  </thead>\n",
       "  <tbody>\n",
       "    <tr>\n",
       "      <th>1</th>\n",
       "      <td>2</td>\n",
       "      <td>Male</td>\n",
       "      <td>25</td>\n",
       "      <td>Kolkata</td>\n",
       "      <td>Tablet</td>\n",
       "      <td>30</td>\n",
       "      <td>38</td>\n",
       "      <td>9</td>\n",
       "      <td>4</td>\n",
       "    </tr>\n",
       "    <tr>\n",
       "      <th>2</th>\n",
       "      <td>3</td>\n",
       "      <td>Male</td>\n",
       "      <td>32</td>\n",
       "      <td>Bangalore</td>\n",
       "      <td>Desktop</td>\n",
       "      <td>37</td>\n",
       "      <td>13</td>\n",
       "      <td>5</td>\n",
       "      <td>0</td>\n",
       "    </tr>\n",
       "    <tr>\n",
       "      <th>3</th>\n",
       "      <td>4</td>\n",
       "      <td>Male</td>\n",
       "      <td>35</td>\n",
       "      <td>Delhi</td>\n",
       "      <td>Mobile</td>\n",
       "      <td>7</td>\n",
       "      <td>20</td>\n",
       "      <td>10</td>\n",
       "      <td>3</td>\n",
       "    </tr>\n",
       "    <tr>\n",
       "      <th>4</th>\n",
       "      <td>5</td>\n",
       "      <td>Male</td>\n",
       "      <td>27</td>\n",
       "      <td>Bangalore</td>\n",
       "      <td>Tablet</td>\n",
       "      <td>35</td>\n",
       "      <td>20</td>\n",
       "      <td>8</td>\n",
       "      <td>2</td>\n",
       "    </tr>\n",
       "    <tr>\n",
       "      <th>5</th>\n",
       "      <td>6</td>\n",
       "      <td>Male</td>\n",
       "      <td>31</td>\n",
       "      <td>Kolkata</td>\n",
       "      <td>Mobile</td>\n",
       "      <td>34</td>\n",
       "      <td>47</td>\n",
       "      <td>5</td>\n",
       "      <td>4</td>\n",
       "    </tr>\n",
       "    <tr>\n",
       "      <th>...</th>\n",
       "      <td>...</td>\n",
       "      <td>...</td>\n",
       "      <td>...</td>\n",
       "      <td>...</td>\n",
       "      <td>...</td>\n",
       "      <td>...</td>\n",
       "      <td>...</td>\n",
       "      <td>...</td>\n",
       "      <td>...</td>\n",
       "    </tr>\n",
       "    <tr>\n",
       "      <th>493</th>\n",
       "      <td>494</td>\n",
       "      <td>Male</td>\n",
       "      <td>29</td>\n",
       "      <td>Hyderabad</td>\n",
       "      <td>Mobile</td>\n",
       "      <td>18</td>\n",
       "      <td>13</td>\n",
       "      <td>0</td>\n",
       "      <td>3</td>\n",
       "    </tr>\n",
       "    <tr>\n",
       "      <th>494</th>\n",
       "      <td>495</td>\n",
       "      <td>Male</td>\n",
       "      <td>31</td>\n",
       "      <td>Pune</td>\n",
       "      <td>Desktop</td>\n",
       "      <td>32</td>\n",
       "      <td>25</td>\n",
       "      <td>2</td>\n",
       "      <td>1</td>\n",
       "    </tr>\n",
       "    <tr>\n",
       "      <th>495</th>\n",
       "      <td>496</td>\n",
       "      <td>Male</td>\n",
       "      <td>24</td>\n",
       "      <td>Mumbai</td>\n",
       "      <td>Tablet</td>\n",
       "      <td>40</td>\n",
       "      <td>45</td>\n",
       "      <td>0</td>\n",
       "      <td>0</td>\n",
       "    </tr>\n",
       "    <tr>\n",
       "      <th>497</th>\n",
       "      <td>498</td>\n",
       "      <td>Male</td>\n",
       "      <td>19</td>\n",
       "      <td>Pune</td>\n",
       "      <td>Desktop</td>\n",
       "      <td>33</td>\n",
       "      <td>41</td>\n",
       "      <td>0</td>\n",
       "      <td>3</td>\n",
       "    </tr>\n",
       "    <tr>\n",
       "      <th>498</th>\n",
       "      <td>499</td>\n",
       "      <td>Male</td>\n",
       "      <td>28</td>\n",
       "      <td>Chennai</td>\n",
       "      <td>Desktop</td>\n",
       "      <td>6</td>\n",
       "      <td>32</td>\n",
       "      <td>7</td>\n",
       "      <td>4</td>\n",
       "    </tr>\n",
       "  </tbody>\n",
       "</table>\n",
       "<p>261 rows × 9 columns</p>\n",
       "</div>"
      ],
      "text/plain": [
       "     User_ID Gender  Age   Location Device_Type  Product_Browsing_Time  \\\n",
       "1          2   Male   25    Kolkata      Tablet                     30   \n",
       "2          3   Male   32  Bangalore     Desktop                     37   \n",
       "3          4   Male   35      Delhi      Mobile                      7   \n",
       "4          5   Male   27  Bangalore      Tablet                     35   \n",
       "5          6   Male   31    Kolkata      Mobile                     34   \n",
       "..       ...    ...  ...        ...         ...                    ...   \n",
       "493      494   Male   29  Hyderabad      Mobile                     18   \n",
       "494      495   Male   31       Pune     Desktop                     32   \n",
       "495      496   Male   24     Mumbai      Tablet                     40   \n",
       "497      498   Male   19       Pune     Desktop                     33   \n",
       "498      499   Male   28    Chennai     Desktop                      6   \n",
       "\n",
       "     Total_Pages_Viewed  Items_Added_to_Cart  Total_Purchases  \n",
       "1                    38                    9                4  \n",
       "2                    13                    5                0  \n",
       "3                    20                   10                3  \n",
       "4                    20                    8                2  \n",
       "5                    47                    5                4  \n",
       "..                  ...                  ...              ...  \n",
       "493                  13                    0                3  \n",
       "494                  25                    2                1  \n",
       "495                  45                    0                0  \n",
       "497                  41                    0                3  \n",
       "498                  32                    7                4  \n",
       "\n",
       "[261 rows x 9 columns]"
      ]
     },
     "execution_count": 8,
     "metadata": {},
     "output_type": "execute_result"
    }
   ],
   "source": [
    "male = data[data['Gender'] == 'Male' ]\n",
    "male"
   ]
  },
  {
   "cell_type": "code",
   "execution_count": 9,
   "id": "33b20c69",
   "metadata": {},
   "outputs": [
    {
     "data": {
      "text/html": [
       "<div>\n",
       "<style scoped>\n",
       "    .dataframe tbody tr th:only-of-type {\n",
       "        vertical-align: middle;\n",
       "    }\n",
       "\n",
       "    .dataframe tbody tr th {\n",
       "        vertical-align: top;\n",
       "    }\n",
       "\n",
       "    .dataframe thead th {\n",
       "        text-align: right;\n",
       "    }\n",
       "</style>\n",
       "<table border=\"1\" class=\"dataframe\">\n",
       "  <thead>\n",
       "    <tr style=\"text-align: right;\">\n",
       "      <th></th>\n",
       "      <th>User_ID</th>\n",
       "      <th>Gender</th>\n",
       "      <th>Age</th>\n",
       "      <th>Location</th>\n",
       "      <th>Device_Type</th>\n",
       "      <th>Product_Browsing_Time</th>\n",
       "      <th>Total_Pages_Viewed</th>\n",
       "      <th>Items_Added_to_Cart</th>\n",
       "      <th>Total_Purchases</th>\n",
       "    </tr>\n",
       "  </thead>\n",
       "  <tbody>\n",
       "    <tr>\n",
       "      <th>0</th>\n",
       "      <td>1</td>\n",
       "      <td>Female</td>\n",
       "      <td>23</td>\n",
       "      <td>Ahmedabad</td>\n",
       "      <td>Mobile</td>\n",
       "      <td>60</td>\n",
       "      <td>30</td>\n",
       "      <td>1</td>\n",
       "      <td>0</td>\n",
       "    </tr>\n",
       "    <tr>\n",
       "      <th>6</th>\n",
       "      <td>7</td>\n",
       "      <td>Female</td>\n",
       "      <td>22</td>\n",
       "      <td>Delhi</td>\n",
       "      <td>Mobile</td>\n",
       "      <td>13</td>\n",
       "      <td>14</td>\n",
       "      <td>3</td>\n",
       "      <td>0</td>\n",
       "    </tr>\n",
       "    <tr>\n",
       "      <th>7</th>\n",
       "      <td>8</td>\n",
       "      <td>Female</td>\n",
       "      <td>25</td>\n",
       "      <td>Pune</td>\n",
       "      <td>Mobile</td>\n",
       "      <td>42</td>\n",
       "      <td>24</td>\n",
       "      <td>10</td>\n",
       "      <td>2</td>\n",
       "    </tr>\n",
       "    <tr>\n",
       "      <th>9</th>\n",
       "      <td>10</td>\n",
       "      <td>Female</td>\n",
       "      <td>18</td>\n",
       "      <td>Bangalore</td>\n",
       "      <td>Desktop</td>\n",
       "      <td>12</td>\n",
       "      <td>43</td>\n",
       "      <td>2</td>\n",
       "      <td>5</td>\n",
       "    </tr>\n",
       "    <tr>\n",
       "      <th>10</th>\n",
       "      <td>11</td>\n",
       "      <td>Female</td>\n",
       "      <td>30</td>\n",
       "      <td>Ahmedabad</td>\n",
       "      <td>Tablet</td>\n",
       "      <td>31</td>\n",
       "      <td>15</td>\n",
       "      <td>9</td>\n",
       "      <td>5</td>\n",
       "    </tr>\n",
       "    <tr>\n",
       "      <th>...</th>\n",
       "      <td>...</td>\n",
       "      <td>...</td>\n",
       "      <td>...</td>\n",
       "      <td>...</td>\n",
       "      <td>...</td>\n",
       "      <td>...</td>\n",
       "      <td>...</td>\n",
       "      <td>...</td>\n",
       "      <td>...</td>\n",
       "    </tr>\n",
       "    <tr>\n",
       "      <th>490</th>\n",
       "      <td>491</td>\n",
       "      <td>Female</td>\n",
       "      <td>26</td>\n",
       "      <td>Mumbai</td>\n",
       "      <td>Tablet</td>\n",
       "      <td>37</td>\n",
       "      <td>24</td>\n",
       "      <td>9</td>\n",
       "      <td>5</td>\n",
       "    </tr>\n",
       "    <tr>\n",
       "      <th>491</th>\n",
       "      <td>492</td>\n",
       "      <td>Female</td>\n",
       "      <td>18</td>\n",
       "      <td>Kolkata</td>\n",
       "      <td>Desktop</td>\n",
       "      <td>45</td>\n",
       "      <td>18</td>\n",
       "      <td>3</td>\n",
       "      <td>4</td>\n",
       "    </tr>\n",
       "    <tr>\n",
       "      <th>492</th>\n",
       "      <td>493</td>\n",
       "      <td>Female</td>\n",
       "      <td>24</td>\n",
       "      <td>Pune</td>\n",
       "      <td>Desktop</td>\n",
       "      <td>43</td>\n",
       "      <td>16</td>\n",
       "      <td>10</td>\n",
       "      <td>2</td>\n",
       "    </tr>\n",
       "    <tr>\n",
       "      <th>496</th>\n",
       "      <td>497</td>\n",
       "      <td>Female</td>\n",
       "      <td>24</td>\n",
       "      <td>Hyderabad</td>\n",
       "      <td>Desktop</td>\n",
       "      <td>8</td>\n",
       "      <td>34</td>\n",
       "      <td>4</td>\n",
       "      <td>5</td>\n",
       "    </tr>\n",
       "    <tr>\n",
       "      <th>499</th>\n",
       "      <td>500</td>\n",
       "      <td>Female</td>\n",
       "      <td>31</td>\n",
       "      <td>Kolkata</td>\n",
       "      <td>Mobile</td>\n",
       "      <td>16</td>\n",
       "      <td>10</td>\n",
       "      <td>10</td>\n",
       "      <td>4</td>\n",
       "    </tr>\n",
       "  </tbody>\n",
       "</table>\n",
       "<p>239 rows × 9 columns</p>\n",
       "</div>"
      ],
      "text/plain": [
       "     User_ID  Gender  Age   Location Device_Type  Product_Browsing_Time  \\\n",
       "0          1  Female   23  Ahmedabad      Mobile                     60   \n",
       "6          7  Female   22      Delhi      Mobile                     13   \n",
       "7          8  Female   25       Pune      Mobile                     42   \n",
       "9         10  Female   18  Bangalore     Desktop                     12   \n",
       "10        11  Female   30  Ahmedabad      Tablet                     31   \n",
       "..       ...     ...  ...        ...         ...                    ...   \n",
       "490      491  Female   26     Mumbai      Tablet                     37   \n",
       "491      492  Female   18    Kolkata     Desktop                     45   \n",
       "492      493  Female   24       Pune     Desktop                     43   \n",
       "496      497  Female   24  Hyderabad     Desktop                      8   \n",
       "499      500  Female   31    Kolkata      Mobile                     16   \n",
       "\n",
       "     Total_Pages_Viewed  Items_Added_to_Cart  Total_Purchases  \n",
       "0                    30                    1                0  \n",
       "6                    14                    3                0  \n",
       "7                    24                   10                2  \n",
       "9                    43                    2                5  \n",
       "10                   15                    9                5  \n",
       "..                  ...                  ...              ...  \n",
       "490                  24                    9                5  \n",
       "491                  18                    3                4  \n",
       "492                  16                   10                2  \n",
       "496                  34                    4                5  \n",
       "499                  10                   10                4  \n",
       "\n",
       "[239 rows x 9 columns]"
      ]
     },
     "execution_count": 9,
     "metadata": {},
     "output_type": "execute_result"
    }
   ],
   "source": [
    "female = data[data['Gender'] == 'Female' ]\n",
    "female"
   ]
  },
  {
   "cell_type": "code",
   "execution_count": 26,
   "id": "12c6bd7d",
   "metadata": {},
   "outputs": [
    {
     "data": {
      "text/html": [
       "<div>\n",
       "<style scoped>\n",
       "    .dataframe tbody tr th:only-of-type {\n",
       "        vertical-align: middle;\n",
       "    }\n",
       "\n",
       "    .dataframe tbody tr th {\n",
       "        vertical-align: top;\n",
       "    }\n",
       "\n",
       "    .dataframe thead th {\n",
       "        text-align: right;\n",
       "    }\n",
       "</style>\n",
       "<table border=\"1\" class=\"dataframe\">\n",
       "  <thead>\n",
       "    <tr style=\"text-align: right;\">\n",
       "      <th></th>\n",
       "      <th>Gender</th>\n",
       "      <th>Total_Purchases</th>\n",
       "    </tr>\n",
       "  </thead>\n",
       "  <tbody>\n",
       "    <tr>\n",
       "      <th>0</th>\n",
       "      <td>Female</td>\n",
       "      <td>0</td>\n",
       "    </tr>\n",
       "    <tr>\n",
       "      <th>1</th>\n",
       "      <td>Male</td>\n",
       "      <td>4</td>\n",
       "    </tr>\n",
       "    <tr>\n",
       "      <th>2</th>\n",
       "      <td>Male</td>\n",
       "      <td>0</td>\n",
       "    </tr>\n",
       "    <tr>\n",
       "      <th>3</th>\n",
       "      <td>Male</td>\n",
       "      <td>3</td>\n",
       "    </tr>\n",
       "    <tr>\n",
       "      <th>4</th>\n",
       "      <td>Male</td>\n",
       "      <td>2</td>\n",
       "    </tr>\n",
       "    <tr>\n",
       "      <th>...</th>\n",
       "      <td>...</td>\n",
       "      <td>...</td>\n",
       "    </tr>\n",
       "    <tr>\n",
       "      <th>495</th>\n",
       "      <td>Male</td>\n",
       "      <td>0</td>\n",
       "    </tr>\n",
       "    <tr>\n",
       "      <th>496</th>\n",
       "      <td>Female</td>\n",
       "      <td>5</td>\n",
       "    </tr>\n",
       "    <tr>\n",
       "      <th>497</th>\n",
       "      <td>Male</td>\n",
       "      <td>3</td>\n",
       "    </tr>\n",
       "    <tr>\n",
       "      <th>498</th>\n",
       "      <td>Male</td>\n",
       "      <td>4</td>\n",
       "    </tr>\n",
       "    <tr>\n",
       "      <th>499</th>\n",
       "      <td>Female</td>\n",
       "      <td>4</td>\n",
       "    </tr>\n",
       "  </tbody>\n",
       "</table>\n",
       "<p>500 rows × 2 columns</p>\n",
       "</div>"
      ],
      "text/plain": [
       "     Gender  Total_Purchases\n",
       "0    Female                0\n",
       "1      Male                4\n",
       "2      Male                0\n",
       "3      Male                3\n",
       "4      Male                2\n",
       "..      ...              ...\n",
       "495    Male                0\n",
       "496  Female                5\n",
       "497    Male                3\n",
       "498    Male                4\n",
       "499  Female                4\n",
       "\n",
       "[500 rows x 2 columns]"
      ]
     },
     "execution_count": 26,
     "metadata": {},
     "output_type": "execute_result"
    }
   ],
   "source": [
    "data.loc[:,['Gender','Total_Purchases']]"
   ]
  },
  {
   "cell_type": "code",
   "execution_count": 27,
   "id": "0ff7e633",
   "metadata": {},
   "outputs": [
    {
     "data": {
      "text/plain": [
       "Male      261\n",
       "Female    239\n",
       "Name: Gender, dtype: int64"
      ]
     },
     "execution_count": 27,
     "metadata": {},
     "output_type": "execute_result"
    }
   ],
   "source": [
    "gen= data['Gender'].value_counts()\n",
    "gen"
   ]
  },
  {
   "cell_type": "code",
   "execution_count": 30,
   "id": "35e9d110",
   "metadata": {},
   "outputs": [
    {
     "data": {
      "text/plain": [
       "Index(['Male', 'Female'], dtype='object')"
      ]
     },
     "execution_count": 30,
     "metadata": {},
     "output_type": "execute_result"
    }
   ],
   "source": [
    "G = gen.index\n",
    "G"
   ]
  },
  {
   "cell_type": "code",
   "execution_count": 13,
   "id": "3d4039a2",
   "metadata": {},
   "outputs": [],
   "source": [
    "import plotly.graph_objects as go"
   ]
  },
  {
   "cell_type": "code",
   "execution_count": 38,
   "id": "ad75c9a1",
   "metadata": {},
   "outputs": [
    {
     "data": {
      "application/vnd.plotly.v1+json": {
       "config": {
        "plotlyServerURL": "https://plot.ly"
       },
       "data": [
        {
         "hoverinfo": "label+percent",
         "labels": [
          "Male",
          "Female"
         ],
         "textfont": {
          "size": 30
         },
         "textinfo": "value",
         "type": "pie",
         "values": [
          60,
          30,
          37,
          7,
          35,
          34,
          13,
          42,
          21,
          12,
          31,
          25,
          10,
          42,
          37,
          60,
          37,
          19,
          18,
          38,
          14,
          45,
          16,
          59,
          27,
          22,
          23,
          44,
          41,
          40,
          42,
          59,
          19,
          10,
          14,
          28,
          13,
          43,
          38,
          46,
          55,
          43,
          58,
          10,
          18,
          47,
          39,
          46,
          18,
          21,
          17,
          8,
          37,
          17,
          43,
          56,
          39,
          33,
          38,
          12,
          7,
          35,
          16,
          33,
          22,
          29,
          47,
          25,
          7,
          27,
          11,
          54,
          38,
          57,
          43,
          56,
          15,
          51,
          15,
          9,
          34,
          10,
          50,
          18,
          7,
          34,
          36,
          39,
          8,
          29,
          52,
          21,
          16,
          31,
          41,
          35,
          52,
          47,
          37,
          10,
          43,
          60,
          18,
          36,
          47,
          34,
          36,
          24,
          32,
          31,
          54,
          19,
          35,
          46,
          41,
          9,
          24,
          16,
          40,
          30,
          44,
          57,
          9,
          16,
          58,
          38,
          55,
          28,
          7,
          22,
          49,
          46,
          13,
          17,
          58,
          46,
          41,
          57,
          14,
          36,
          58,
          27,
          34,
          46,
          39,
          54,
          14,
          21,
          44,
          41,
          27,
          25,
          52,
          47,
          35,
          32,
          8,
          19,
          30,
          24,
          5,
          38,
          46,
          19,
          19,
          54,
          21,
          56,
          34,
          46,
          57,
          13,
          42,
          14,
          42,
          28,
          30,
          37,
          22,
          14,
          33,
          36,
          7,
          9,
          37,
          51,
          5,
          37,
          10,
          14,
          21,
          35,
          8,
          42,
          13,
          45,
          29,
          30,
          18,
          25,
          34,
          41,
          56,
          56,
          57,
          60,
          34,
          22,
          6,
          21,
          13,
          29,
          47,
          6,
          45,
          15,
          57,
          42,
          16,
          6,
          43,
          43,
          28,
          42,
          53,
          52,
          49,
          7,
          9,
          11,
          33,
          47,
          15,
          19,
          54,
          31,
          50,
          19,
          12,
          52,
          56,
          32,
          20,
          19,
          48,
          9,
          14,
          11,
          59,
          51,
          49,
          37,
          12,
          46,
          11,
          44,
          11,
          46,
          53,
          29,
          23,
          6,
          32,
          49,
          39,
          28,
          20,
          15,
          34,
          8,
          14,
          19,
          57,
          27,
          27,
          53,
          56,
          11,
          7,
          8,
          38,
          7,
          45,
          12,
          31,
          24,
          25,
          6,
          52,
          39,
          52,
          51,
          32,
          12,
          14,
          29,
          36,
          22,
          60,
          39,
          38,
          10,
          53,
          22,
          6,
          26,
          49,
          20,
          58,
          28,
          5,
          9,
          6,
          29,
          9,
          28,
          53,
          29,
          22,
          16,
          28,
          27,
          32,
          57,
          18,
          19,
          38,
          22,
          6,
          20,
          31,
          15,
          8,
          29,
          29,
          28,
          42,
          46,
          41,
          33,
          14,
          51,
          51,
          32,
          15,
          31,
          11,
          49,
          7,
          11,
          36,
          16,
          57,
          57,
          40,
          33,
          17,
          56,
          29,
          25,
          10,
          34,
          58,
          8,
          38,
          14,
          38,
          41,
          26,
          60,
          35,
          30,
          29,
          46,
          10,
          29,
          25,
          5,
          48,
          13,
          17,
          10,
          9,
          31,
          47,
          31,
          7,
          6,
          40,
          31,
          57,
          25,
          11,
          38,
          24,
          14,
          45,
          53,
          52,
          5,
          17,
          54,
          54,
          47,
          39,
          29,
          28,
          17,
          40,
          58,
          9,
          58,
          42,
          10,
          21,
          45,
          39,
          6,
          50,
          36,
          33,
          7,
          45,
          15,
          39,
          14,
          17,
          52,
          14,
          18,
          52,
          49,
          24,
          6,
          55,
          7,
          20,
          29,
          23,
          33,
          32,
          56,
          49,
          15,
          32,
          39,
          22,
          12,
          24,
          34,
          52,
          54,
          37,
          34,
          40,
          24,
          25,
          7,
          18,
          39,
          33,
          48,
          6,
          9,
          47,
          9,
          54,
          13,
          20,
          13,
          51,
          44,
          46,
          35,
          34,
          16,
          47,
          17,
          14,
          6,
          24,
          46,
          31,
          39,
          12,
          24,
          50,
          50,
          8,
          14,
          37,
          45,
          43,
          18,
          32,
          40,
          8,
          33,
          6,
          16
         ]
        }
       ],
       "layout": {
        "template": {
         "data": {
          "bar": [
           {
            "error_x": {
             "color": "#2a3f5f"
            },
            "error_y": {
             "color": "#2a3f5f"
            },
            "marker": {
             "line": {
              "color": "#E5ECF6",
              "width": 0.5
             },
             "pattern": {
              "fillmode": "overlay",
              "size": 10,
              "solidity": 0.2
             }
            },
            "type": "bar"
           }
          ],
          "barpolar": [
           {
            "marker": {
             "line": {
              "color": "#E5ECF6",
              "width": 0.5
             },
             "pattern": {
              "fillmode": "overlay",
              "size": 10,
              "solidity": 0.2
             }
            },
            "type": "barpolar"
           }
          ],
          "carpet": [
           {
            "aaxis": {
             "endlinecolor": "#2a3f5f",
             "gridcolor": "white",
             "linecolor": "white",
             "minorgridcolor": "white",
             "startlinecolor": "#2a3f5f"
            },
            "baxis": {
             "endlinecolor": "#2a3f5f",
             "gridcolor": "white",
             "linecolor": "white",
             "minorgridcolor": "white",
             "startlinecolor": "#2a3f5f"
            },
            "type": "carpet"
           }
          ],
          "choropleth": [
           {
            "colorbar": {
             "outlinewidth": 0,
             "ticks": ""
            },
            "type": "choropleth"
           }
          ],
          "contour": [
           {
            "colorbar": {
             "outlinewidth": 0,
             "ticks": ""
            },
            "colorscale": [
             [
              0,
              "#0d0887"
             ],
             [
              0.1111111111111111,
              "#46039f"
             ],
             [
              0.2222222222222222,
              "#7201a8"
             ],
             [
              0.3333333333333333,
              "#9c179e"
             ],
             [
              0.4444444444444444,
              "#bd3786"
             ],
             [
              0.5555555555555556,
              "#d8576b"
             ],
             [
              0.6666666666666666,
              "#ed7953"
             ],
             [
              0.7777777777777778,
              "#fb9f3a"
             ],
             [
              0.8888888888888888,
              "#fdca26"
             ],
             [
              1,
              "#f0f921"
             ]
            ],
            "type": "contour"
           }
          ],
          "contourcarpet": [
           {
            "colorbar": {
             "outlinewidth": 0,
             "ticks": ""
            },
            "type": "contourcarpet"
           }
          ],
          "heatmap": [
           {
            "colorbar": {
             "outlinewidth": 0,
             "ticks": ""
            },
            "colorscale": [
             [
              0,
              "#0d0887"
             ],
             [
              0.1111111111111111,
              "#46039f"
             ],
             [
              0.2222222222222222,
              "#7201a8"
             ],
             [
              0.3333333333333333,
              "#9c179e"
             ],
             [
              0.4444444444444444,
              "#bd3786"
             ],
             [
              0.5555555555555556,
              "#d8576b"
             ],
             [
              0.6666666666666666,
              "#ed7953"
             ],
             [
              0.7777777777777778,
              "#fb9f3a"
             ],
             [
              0.8888888888888888,
              "#fdca26"
             ],
             [
              1,
              "#f0f921"
             ]
            ],
            "type": "heatmap"
           }
          ],
          "heatmapgl": [
           {
            "colorbar": {
             "outlinewidth": 0,
             "ticks": ""
            },
            "colorscale": [
             [
              0,
              "#0d0887"
             ],
             [
              0.1111111111111111,
              "#46039f"
             ],
             [
              0.2222222222222222,
              "#7201a8"
             ],
             [
              0.3333333333333333,
              "#9c179e"
             ],
             [
              0.4444444444444444,
              "#bd3786"
             ],
             [
              0.5555555555555556,
              "#d8576b"
             ],
             [
              0.6666666666666666,
              "#ed7953"
             ],
             [
              0.7777777777777778,
              "#fb9f3a"
             ],
             [
              0.8888888888888888,
              "#fdca26"
             ],
             [
              1,
              "#f0f921"
             ]
            ],
            "type": "heatmapgl"
           }
          ],
          "histogram": [
           {
            "marker": {
             "pattern": {
              "fillmode": "overlay",
              "size": 10,
              "solidity": 0.2
             }
            },
            "type": "histogram"
           }
          ],
          "histogram2d": [
           {
            "colorbar": {
             "outlinewidth": 0,
             "ticks": ""
            },
            "colorscale": [
             [
              0,
              "#0d0887"
             ],
             [
              0.1111111111111111,
              "#46039f"
             ],
             [
              0.2222222222222222,
              "#7201a8"
             ],
             [
              0.3333333333333333,
              "#9c179e"
             ],
             [
              0.4444444444444444,
              "#bd3786"
             ],
             [
              0.5555555555555556,
              "#d8576b"
             ],
             [
              0.6666666666666666,
              "#ed7953"
             ],
             [
              0.7777777777777778,
              "#fb9f3a"
             ],
             [
              0.8888888888888888,
              "#fdca26"
             ],
             [
              1,
              "#f0f921"
             ]
            ],
            "type": "histogram2d"
           }
          ],
          "histogram2dcontour": [
           {
            "colorbar": {
             "outlinewidth": 0,
             "ticks": ""
            },
            "colorscale": [
             [
              0,
              "#0d0887"
             ],
             [
              0.1111111111111111,
              "#46039f"
             ],
             [
              0.2222222222222222,
              "#7201a8"
             ],
             [
              0.3333333333333333,
              "#9c179e"
             ],
             [
              0.4444444444444444,
              "#bd3786"
             ],
             [
              0.5555555555555556,
              "#d8576b"
             ],
             [
              0.6666666666666666,
              "#ed7953"
             ],
             [
              0.7777777777777778,
              "#fb9f3a"
             ],
             [
              0.8888888888888888,
              "#fdca26"
             ],
             [
              1,
              "#f0f921"
             ]
            ],
            "type": "histogram2dcontour"
           }
          ],
          "mesh3d": [
           {
            "colorbar": {
             "outlinewidth": 0,
             "ticks": ""
            },
            "type": "mesh3d"
           }
          ],
          "parcoords": [
           {
            "line": {
             "colorbar": {
              "outlinewidth": 0,
              "ticks": ""
             }
            },
            "type": "parcoords"
           }
          ],
          "pie": [
           {
            "automargin": true,
            "type": "pie"
           }
          ],
          "scatter": [
           {
            "fillpattern": {
             "fillmode": "overlay",
             "size": 10,
             "solidity": 0.2
            },
            "type": "scatter"
           }
          ],
          "scatter3d": [
           {
            "line": {
             "colorbar": {
              "outlinewidth": 0,
              "ticks": ""
             }
            },
            "marker": {
             "colorbar": {
              "outlinewidth": 0,
              "ticks": ""
             }
            },
            "type": "scatter3d"
           }
          ],
          "scattercarpet": [
           {
            "marker": {
             "colorbar": {
              "outlinewidth": 0,
              "ticks": ""
             }
            },
            "type": "scattercarpet"
           }
          ],
          "scattergeo": [
           {
            "marker": {
             "colorbar": {
              "outlinewidth": 0,
              "ticks": ""
             }
            },
            "type": "scattergeo"
           }
          ],
          "scattergl": [
           {
            "marker": {
             "colorbar": {
              "outlinewidth": 0,
              "ticks": ""
             }
            },
            "type": "scattergl"
           }
          ],
          "scattermapbox": [
           {
            "marker": {
             "colorbar": {
              "outlinewidth": 0,
              "ticks": ""
             }
            },
            "type": "scattermapbox"
           }
          ],
          "scatterpolar": [
           {
            "marker": {
             "colorbar": {
              "outlinewidth": 0,
              "ticks": ""
             }
            },
            "type": "scatterpolar"
           }
          ],
          "scatterpolargl": [
           {
            "marker": {
             "colorbar": {
              "outlinewidth": 0,
              "ticks": ""
             }
            },
            "type": "scatterpolargl"
           }
          ],
          "scatterternary": [
           {
            "marker": {
             "colorbar": {
              "outlinewidth": 0,
              "ticks": ""
             }
            },
            "type": "scatterternary"
           }
          ],
          "surface": [
           {
            "colorbar": {
             "outlinewidth": 0,
             "ticks": ""
            },
            "colorscale": [
             [
              0,
              "#0d0887"
             ],
             [
              0.1111111111111111,
              "#46039f"
             ],
             [
              0.2222222222222222,
              "#7201a8"
             ],
             [
              0.3333333333333333,
              "#9c179e"
             ],
             [
              0.4444444444444444,
              "#bd3786"
             ],
             [
              0.5555555555555556,
              "#d8576b"
             ],
             [
              0.6666666666666666,
              "#ed7953"
             ],
             [
              0.7777777777777778,
              "#fb9f3a"
             ],
             [
              0.8888888888888888,
              "#fdca26"
             ],
             [
              1,
              "#f0f921"
             ]
            ],
            "type": "surface"
           }
          ],
          "table": [
           {
            "cells": {
             "fill": {
              "color": "#EBF0F8"
             },
             "line": {
              "color": "white"
             }
            },
            "header": {
             "fill": {
              "color": "#C8D4E3"
             },
             "line": {
              "color": "white"
             }
            },
            "type": "table"
           }
          ]
         },
         "layout": {
          "annotationdefaults": {
           "arrowcolor": "#2a3f5f",
           "arrowhead": 0,
           "arrowwidth": 1
          },
          "autotypenumbers": "strict",
          "coloraxis": {
           "colorbar": {
            "outlinewidth": 0,
            "ticks": ""
           }
          },
          "colorscale": {
           "diverging": [
            [
             0,
             "#8e0152"
            ],
            [
             0.1,
             "#c51b7d"
            ],
            [
             0.2,
             "#de77ae"
            ],
            [
             0.3,
             "#f1b6da"
            ],
            [
             0.4,
             "#fde0ef"
            ],
            [
             0.5,
             "#f7f7f7"
            ],
            [
             0.6,
             "#e6f5d0"
            ],
            [
             0.7,
             "#b8e186"
            ],
            [
             0.8,
             "#7fbc41"
            ],
            [
             0.9,
             "#4d9221"
            ],
            [
             1,
             "#276419"
            ]
           ],
           "sequential": [
            [
             0,
             "#0d0887"
            ],
            [
             0.1111111111111111,
             "#46039f"
            ],
            [
             0.2222222222222222,
             "#7201a8"
            ],
            [
             0.3333333333333333,
             "#9c179e"
            ],
            [
             0.4444444444444444,
             "#bd3786"
            ],
            [
             0.5555555555555556,
             "#d8576b"
            ],
            [
             0.6666666666666666,
             "#ed7953"
            ],
            [
             0.7777777777777778,
             "#fb9f3a"
            ],
            [
             0.8888888888888888,
             "#fdca26"
            ],
            [
             1,
             "#f0f921"
            ]
           ],
           "sequentialminus": [
            [
             0,
             "#0d0887"
            ],
            [
             0.1111111111111111,
             "#46039f"
            ],
            [
             0.2222222222222222,
             "#7201a8"
            ],
            [
             0.3333333333333333,
             "#9c179e"
            ],
            [
             0.4444444444444444,
             "#bd3786"
            ],
            [
             0.5555555555555556,
             "#d8576b"
            ],
            [
             0.6666666666666666,
             "#ed7953"
            ],
            [
             0.7777777777777778,
             "#fb9f3a"
            ],
            [
             0.8888888888888888,
             "#fdca26"
            ],
            [
             1,
             "#f0f921"
            ]
           ]
          },
          "colorway": [
           "#636efa",
           "#EF553B",
           "#00cc96",
           "#ab63fa",
           "#FFA15A",
           "#19d3f3",
           "#FF6692",
           "#B6E880",
           "#FF97FF",
           "#FECB52"
          ],
          "font": {
           "color": "#2a3f5f"
          },
          "geo": {
           "bgcolor": "white",
           "lakecolor": "white",
           "landcolor": "#E5ECF6",
           "showlakes": true,
           "showland": true,
           "subunitcolor": "white"
          },
          "hoverlabel": {
           "align": "left"
          },
          "hovermode": "closest",
          "mapbox": {
           "style": "light"
          },
          "paper_bgcolor": "white",
          "plot_bgcolor": "#E5ECF6",
          "polar": {
           "angularaxis": {
            "gridcolor": "white",
            "linecolor": "white",
            "ticks": ""
           },
           "bgcolor": "#E5ECF6",
           "radialaxis": {
            "gridcolor": "white",
            "linecolor": "white",
            "ticks": ""
           }
          },
          "scene": {
           "xaxis": {
            "backgroundcolor": "#E5ECF6",
            "gridcolor": "white",
            "gridwidth": 2,
            "linecolor": "white",
            "showbackground": true,
            "ticks": "",
            "zerolinecolor": "white"
           },
           "yaxis": {
            "backgroundcolor": "#E5ECF6",
            "gridcolor": "white",
            "gridwidth": 2,
            "linecolor": "white",
            "showbackground": true,
            "ticks": "",
            "zerolinecolor": "white"
           },
           "zaxis": {
            "backgroundcolor": "#E5ECF6",
            "gridcolor": "white",
            "gridwidth": 2,
            "linecolor": "white",
            "showbackground": true,
            "ticks": "",
            "zerolinecolor": "white"
           }
          },
          "shapedefaults": {
           "line": {
            "color": "#2a3f5f"
           }
          },
          "ternary": {
           "aaxis": {
            "gridcolor": "white",
            "linecolor": "white",
            "ticks": ""
           },
           "baxis": {
            "gridcolor": "white",
            "linecolor": "white",
            "ticks": ""
           },
           "bgcolor": "#E5ECF6",
           "caxis": {
            "gridcolor": "white",
            "linecolor": "white",
            "ticks": ""
           }
          },
          "title": {
           "x": 0.05
          },
          "xaxis": {
           "automargin": true,
           "gridcolor": "white",
           "linecolor": "white",
           "ticks": "",
           "title": {
            "standoff": 15
           },
           "zerolinecolor": "white",
           "zerolinewidth": 2
          },
          "yaxis": {
           "automargin": true,
           "gridcolor": "white",
           "linecolor": "white",
           "ticks": "",
           "title": {
            "standoff": 15
           },
           "zerolinecolor": "white",
           "zerolinewidth": 2
          }
         }
        },
        "title": {
         "text": "Browsing Time by Gender"
        }
       }
      },
      "text/html": [
       "<div>                            <div id=\"cb54c527-5f11-44d7-b569-d62f137968d5\" class=\"plotly-graph-div\" style=\"height:525px; width:100%;\"></div>            <script type=\"text/javascript\">                require([\"plotly\"], function(Plotly) {                    window.PLOTLYENV=window.PLOTLYENV || {};                                    if (document.getElementById(\"cb54c527-5f11-44d7-b569-d62f137968d5\")) {                    Plotly.newPlot(                        \"cb54c527-5f11-44d7-b569-d62f137968d5\",                        [{\"labels\":[\"Male\",\"Female\"],\"values\":[60,30,37,7,35,34,13,42,21,12,31,25,10,42,37,60,37,19,18,38,14,45,16,59,27,22,23,44,41,40,42,59,19,10,14,28,13,43,38,46,55,43,58,10,18,47,39,46,18,21,17,8,37,17,43,56,39,33,38,12,7,35,16,33,22,29,47,25,7,27,11,54,38,57,43,56,15,51,15,9,34,10,50,18,7,34,36,39,8,29,52,21,16,31,41,35,52,47,37,10,43,60,18,36,47,34,36,24,32,31,54,19,35,46,41,9,24,16,40,30,44,57,9,16,58,38,55,28,7,22,49,46,13,17,58,46,41,57,14,36,58,27,34,46,39,54,14,21,44,41,27,25,52,47,35,32,8,19,30,24,5,38,46,19,19,54,21,56,34,46,57,13,42,14,42,28,30,37,22,14,33,36,7,9,37,51,5,37,10,14,21,35,8,42,13,45,29,30,18,25,34,41,56,56,57,60,34,22,6,21,13,29,47,6,45,15,57,42,16,6,43,43,28,42,53,52,49,7,9,11,33,47,15,19,54,31,50,19,12,52,56,32,20,19,48,9,14,11,59,51,49,37,12,46,11,44,11,46,53,29,23,6,32,49,39,28,20,15,34,8,14,19,57,27,27,53,56,11,7,8,38,7,45,12,31,24,25,6,52,39,52,51,32,12,14,29,36,22,60,39,38,10,53,22,6,26,49,20,58,28,5,9,6,29,9,28,53,29,22,16,28,27,32,57,18,19,38,22,6,20,31,15,8,29,29,28,42,46,41,33,14,51,51,32,15,31,11,49,7,11,36,16,57,57,40,33,17,56,29,25,10,34,58,8,38,14,38,41,26,60,35,30,29,46,10,29,25,5,48,13,17,10,9,31,47,31,7,6,40,31,57,25,11,38,24,14,45,53,52,5,17,54,54,47,39,29,28,17,40,58,9,58,42,10,21,45,39,6,50,36,33,7,45,15,39,14,17,52,14,18,52,49,24,6,55,7,20,29,23,33,32,56,49,15,32,39,22,12,24,34,52,54,37,34,40,24,25,7,18,39,33,48,6,9,47,9,54,13,20,13,51,44,46,35,34,16,47,17,14,6,24,46,31,39,12,24,50,50,8,14,37,45,43,18,32,40,8,33,6,16],\"type\":\"pie\",\"textfont\":{\"size\":30},\"hoverinfo\":\"label+percent\",\"textinfo\":\"value\"}],                        {\"template\":{\"data\":{\"histogram2dcontour\":[{\"type\":\"histogram2dcontour\",\"colorbar\":{\"outlinewidth\":0,\"ticks\":\"\"},\"colorscale\":[[0.0,\"#0d0887\"],[0.1111111111111111,\"#46039f\"],[0.2222222222222222,\"#7201a8\"],[0.3333333333333333,\"#9c179e\"],[0.4444444444444444,\"#bd3786\"],[0.5555555555555556,\"#d8576b\"],[0.6666666666666666,\"#ed7953\"],[0.7777777777777778,\"#fb9f3a\"],[0.8888888888888888,\"#fdca26\"],[1.0,\"#f0f921\"]]}],\"choropleth\":[{\"type\":\"choropleth\",\"colorbar\":{\"outlinewidth\":0,\"ticks\":\"\"}}],\"histogram2d\":[{\"type\":\"histogram2d\",\"colorbar\":{\"outlinewidth\":0,\"ticks\":\"\"},\"colorscale\":[[0.0,\"#0d0887\"],[0.1111111111111111,\"#46039f\"],[0.2222222222222222,\"#7201a8\"],[0.3333333333333333,\"#9c179e\"],[0.4444444444444444,\"#bd3786\"],[0.5555555555555556,\"#d8576b\"],[0.6666666666666666,\"#ed7953\"],[0.7777777777777778,\"#fb9f3a\"],[0.8888888888888888,\"#fdca26\"],[1.0,\"#f0f921\"]]}],\"heatmap\":[{\"type\":\"heatmap\",\"colorbar\":{\"outlinewidth\":0,\"ticks\":\"\"},\"colorscale\":[[0.0,\"#0d0887\"],[0.1111111111111111,\"#46039f\"],[0.2222222222222222,\"#7201a8\"],[0.3333333333333333,\"#9c179e\"],[0.4444444444444444,\"#bd3786\"],[0.5555555555555556,\"#d8576b\"],[0.6666666666666666,\"#ed7953\"],[0.7777777777777778,\"#fb9f3a\"],[0.8888888888888888,\"#fdca26\"],[1.0,\"#f0f921\"]]}],\"heatmapgl\":[{\"type\":\"heatmapgl\",\"colorbar\":{\"outlinewidth\":0,\"ticks\":\"\"},\"colorscale\":[[0.0,\"#0d0887\"],[0.1111111111111111,\"#46039f\"],[0.2222222222222222,\"#7201a8\"],[0.3333333333333333,\"#9c179e\"],[0.4444444444444444,\"#bd3786\"],[0.5555555555555556,\"#d8576b\"],[0.6666666666666666,\"#ed7953\"],[0.7777777777777778,\"#fb9f3a\"],[0.8888888888888888,\"#fdca26\"],[1.0,\"#f0f921\"]]}],\"contourcarpet\":[{\"type\":\"contourcarpet\",\"colorbar\":{\"outlinewidth\":0,\"ticks\":\"\"}}],\"contour\":[{\"type\":\"contour\",\"colorbar\":{\"outlinewidth\":0,\"ticks\":\"\"},\"colorscale\":[[0.0,\"#0d0887\"],[0.1111111111111111,\"#46039f\"],[0.2222222222222222,\"#7201a8\"],[0.3333333333333333,\"#9c179e\"],[0.4444444444444444,\"#bd3786\"],[0.5555555555555556,\"#d8576b\"],[0.6666666666666666,\"#ed7953\"],[0.7777777777777778,\"#fb9f3a\"],[0.8888888888888888,\"#fdca26\"],[1.0,\"#f0f921\"]]}],\"surface\":[{\"type\":\"surface\",\"colorbar\":{\"outlinewidth\":0,\"ticks\":\"\"},\"colorscale\":[[0.0,\"#0d0887\"],[0.1111111111111111,\"#46039f\"],[0.2222222222222222,\"#7201a8\"],[0.3333333333333333,\"#9c179e\"],[0.4444444444444444,\"#bd3786\"],[0.5555555555555556,\"#d8576b\"],[0.6666666666666666,\"#ed7953\"],[0.7777777777777778,\"#fb9f3a\"],[0.8888888888888888,\"#fdca26\"],[1.0,\"#f0f921\"]]}],\"mesh3d\":[{\"type\":\"mesh3d\",\"colorbar\":{\"outlinewidth\":0,\"ticks\":\"\"}}],\"scatter\":[{\"fillpattern\":{\"fillmode\":\"overlay\",\"size\":10,\"solidity\":0.2},\"type\":\"scatter\"}],\"parcoords\":[{\"type\":\"parcoords\",\"line\":{\"colorbar\":{\"outlinewidth\":0,\"ticks\":\"\"}}}],\"scatterpolargl\":[{\"type\":\"scatterpolargl\",\"marker\":{\"colorbar\":{\"outlinewidth\":0,\"ticks\":\"\"}}}],\"bar\":[{\"error_x\":{\"color\":\"#2a3f5f\"},\"error_y\":{\"color\":\"#2a3f5f\"},\"marker\":{\"line\":{\"color\":\"#E5ECF6\",\"width\":0.5},\"pattern\":{\"fillmode\":\"overlay\",\"size\":10,\"solidity\":0.2}},\"type\":\"bar\"}],\"scattergeo\":[{\"type\":\"scattergeo\",\"marker\":{\"colorbar\":{\"outlinewidth\":0,\"ticks\":\"\"}}}],\"scatterpolar\":[{\"type\":\"scatterpolar\",\"marker\":{\"colorbar\":{\"outlinewidth\":0,\"ticks\":\"\"}}}],\"histogram\":[{\"marker\":{\"pattern\":{\"fillmode\":\"overlay\",\"size\":10,\"solidity\":0.2}},\"type\":\"histogram\"}],\"scattergl\":[{\"type\":\"scattergl\",\"marker\":{\"colorbar\":{\"outlinewidth\":0,\"ticks\":\"\"}}}],\"scatter3d\":[{\"type\":\"scatter3d\",\"line\":{\"colorbar\":{\"outlinewidth\":0,\"ticks\":\"\"}},\"marker\":{\"colorbar\":{\"outlinewidth\":0,\"ticks\":\"\"}}}],\"scattermapbox\":[{\"type\":\"scattermapbox\",\"marker\":{\"colorbar\":{\"outlinewidth\":0,\"ticks\":\"\"}}}],\"scatterternary\":[{\"type\":\"scatterternary\",\"marker\":{\"colorbar\":{\"outlinewidth\":0,\"ticks\":\"\"}}}],\"scattercarpet\":[{\"type\":\"scattercarpet\",\"marker\":{\"colorbar\":{\"outlinewidth\":0,\"ticks\":\"\"}}}],\"carpet\":[{\"aaxis\":{\"endlinecolor\":\"#2a3f5f\",\"gridcolor\":\"white\",\"linecolor\":\"white\",\"minorgridcolor\":\"white\",\"startlinecolor\":\"#2a3f5f\"},\"baxis\":{\"endlinecolor\":\"#2a3f5f\",\"gridcolor\":\"white\",\"linecolor\":\"white\",\"minorgridcolor\":\"white\",\"startlinecolor\":\"#2a3f5f\"},\"type\":\"carpet\"}],\"table\":[{\"cells\":{\"fill\":{\"color\":\"#EBF0F8\"},\"line\":{\"color\":\"white\"}},\"header\":{\"fill\":{\"color\":\"#C8D4E3\"},\"line\":{\"color\":\"white\"}},\"type\":\"table\"}],\"barpolar\":[{\"marker\":{\"line\":{\"color\":\"#E5ECF6\",\"width\":0.5},\"pattern\":{\"fillmode\":\"overlay\",\"size\":10,\"solidity\":0.2}},\"type\":\"barpolar\"}],\"pie\":[{\"automargin\":true,\"type\":\"pie\"}]},\"layout\":{\"autotypenumbers\":\"strict\",\"colorway\":[\"#636efa\",\"#EF553B\",\"#00cc96\",\"#ab63fa\",\"#FFA15A\",\"#19d3f3\",\"#FF6692\",\"#B6E880\",\"#FF97FF\",\"#FECB52\"],\"font\":{\"color\":\"#2a3f5f\"},\"hovermode\":\"closest\",\"hoverlabel\":{\"align\":\"left\"},\"paper_bgcolor\":\"white\",\"plot_bgcolor\":\"#E5ECF6\",\"polar\":{\"bgcolor\":\"#E5ECF6\",\"angularaxis\":{\"gridcolor\":\"white\",\"linecolor\":\"white\",\"ticks\":\"\"},\"radialaxis\":{\"gridcolor\":\"white\",\"linecolor\":\"white\",\"ticks\":\"\"}},\"ternary\":{\"bgcolor\":\"#E5ECF6\",\"aaxis\":{\"gridcolor\":\"white\",\"linecolor\":\"white\",\"ticks\":\"\"},\"baxis\":{\"gridcolor\":\"white\",\"linecolor\":\"white\",\"ticks\":\"\"},\"caxis\":{\"gridcolor\":\"white\",\"linecolor\":\"white\",\"ticks\":\"\"}},\"coloraxis\":{\"colorbar\":{\"outlinewidth\":0,\"ticks\":\"\"}},\"colorscale\":{\"sequential\":[[0.0,\"#0d0887\"],[0.1111111111111111,\"#46039f\"],[0.2222222222222222,\"#7201a8\"],[0.3333333333333333,\"#9c179e\"],[0.4444444444444444,\"#bd3786\"],[0.5555555555555556,\"#d8576b\"],[0.6666666666666666,\"#ed7953\"],[0.7777777777777778,\"#fb9f3a\"],[0.8888888888888888,\"#fdca26\"],[1.0,\"#f0f921\"]],\"sequentialminus\":[[0.0,\"#0d0887\"],[0.1111111111111111,\"#46039f\"],[0.2222222222222222,\"#7201a8\"],[0.3333333333333333,\"#9c179e\"],[0.4444444444444444,\"#bd3786\"],[0.5555555555555556,\"#d8576b\"],[0.6666666666666666,\"#ed7953\"],[0.7777777777777778,\"#fb9f3a\"],[0.8888888888888888,\"#fdca26\"],[1.0,\"#f0f921\"]],\"diverging\":[[0,\"#8e0152\"],[0.1,\"#c51b7d\"],[0.2,\"#de77ae\"],[0.3,\"#f1b6da\"],[0.4,\"#fde0ef\"],[0.5,\"#f7f7f7\"],[0.6,\"#e6f5d0\"],[0.7,\"#b8e186\"],[0.8,\"#7fbc41\"],[0.9,\"#4d9221\"],[1,\"#276419\"]]},\"xaxis\":{\"gridcolor\":\"white\",\"linecolor\":\"white\",\"ticks\":\"\",\"title\":{\"standoff\":15},\"zerolinecolor\":\"white\",\"automargin\":true,\"zerolinewidth\":2},\"yaxis\":{\"gridcolor\":\"white\",\"linecolor\":\"white\",\"ticks\":\"\",\"title\":{\"standoff\":15},\"zerolinecolor\":\"white\",\"automargin\":true,\"zerolinewidth\":2},\"scene\":{\"xaxis\":{\"backgroundcolor\":\"#E5ECF6\",\"gridcolor\":\"white\",\"linecolor\":\"white\",\"showbackground\":true,\"ticks\":\"\",\"zerolinecolor\":\"white\",\"gridwidth\":2},\"yaxis\":{\"backgroundcolor\":\"#E5ECF6\",\"gridcolor\":\"white\",\"linecolor\":\"white\",\"showbackground\":true,\"ticks\":\"\",\"zerolinecolor\":\"white\",\"gridwidth\":2},\"zaxis\":{\"backgroundcolor\":\"#E5ECF6\",\"gridcolor\":\"white\",\"linecolor\":\"white\",\"showbackground\":true,\"ticks\":\"\",\"zerolinecolor\":\"white\",\"gridwidth\":2}},\"shapedefaults\":{\"line\":{\"color\":\"#2a3f5f\"}},\"annotationdefaults\":{\"arrowcolor\":\"#2a3f5f\",\"arrowhead\":0,\"arrowwidth\":1},\"geo\":{\"bgcolor\":\"white\",\"landcolor\":\"#E5ECF6\",\"subunitcolor\":\"white\",\"showland\":true,\"showlakes\":true,\"lakecolor\":\"white\"},\"title\":{\"x\":0.05},\"mapbox\":{\"style\":\"light\"}}},\"title\":{\"text\":\"Browsing Time by Gender\"}},                        {\"responsive\": true}                    ).then(function(){\n",
       "                            \n",
       "var gd = document.getElementById('cb54c527-5f11-44d7-b569-d62f137968d5');\n",
       "var x = new MutationObserver(function (mutations, observer) {{\n",
       "        var display = window.getComputedStyle(gd).display;\n",
       "        if (!display || display === 'none') {{\n",
       "            console.log([gd, 'removed!']);\n",
       "            Plotly.purge(gd);\n",
       "            observer.disconnect();\n",
       "        }}\n",
       "}});\n",
       "\n",
       "// Listen for the removal of the full notebook cells\n",
       "var notebookContainer = gd.closest('#notebook-container');\n",
       "if (notebookContainer) {{\n",
       "    x.observe(notebookContainer, {childList: true});\n",
       "}}\n",
       "\n",
       "// Listen for the clearing of the current output cell\n",
       "var outputEl = gd.closest('.output');\n",
       "if (outputEl) {{\n",
       "    x.observe(outputEl, {childList: true});\n",
       "}}\n",
       "\n",
       "                        })                };                });            </script>        </div>"
      ]
     },
     "metadata": {},
     "output_type": "display_data"
    }
   ],
   "source": [
    "fig1 = go.Figure(data =[go.Pie(labels = G, values = data['Product_Browsing_Time'])])\n",
    "fig1.update_layout(title_text = 'Browsing Time by Gender')\n",
    "fig1.update_traces(textinfo='value',textfont_size=30,hoverinfo='label+percent')\n",
    "fig1.show()"
   ]
  },
  {
   "cell_type": "code",
   "execution_count": 43,
   "id": "e0883235",
   "metadata": {},
   "outputs": [
    {
     "data": {
      "text/plain": [
       "7830"
      ]
     },
     "execution_count": 43,
     "metadata": {},
     "output_type": "execute_result"
    }
   ],
   "source": [
    "M_browsing = data.loc[data['Gender'] =='Male','Product_Browsing_Time'].sum()\n",
    "M_browsing"
   ]
  },
  {
   "cell_type": "code",
   "execution_count": 44,
   "id": "7b99ece3",
   "metadata": {},
   "outputs": [
    {
     "data": {
      "text/plain": [
       "7540"
      ]
     },
     "execution_count": 44,
     "metadata": {},
     "output_type": "execute_result"
    }
   ],
   "source": [
    "F_browsing= data.loc[data['Gender'] =='Female','Product_Browsing_Time'].sum()\n",
    "F_browsing"
   ]
  },
  {
   "cell_type": "markdown",
   "id": "03bee888",
   "metadata": {},
   "source": [
    "## Take Away\n",
    "\n",
    "### From the pie graph and above calculation we  can see male have more browsing time than female."
   ]
  },
  {
   "cell_type": "code",
   "execution_count": 45,
   "id": "a70956f9",
   "metadata": {},
   "outputs": [
    {
     "data": {
      "text/plain": [
       "688"
      ]
     },
     "execution_count": 45,
     "metadata": {},
     "output_type": "execute_result"
    }
   ],
   "source": [
    "M_purcahse = data.loc[data['Gender'] =='Male','Total_Purchases'].sum()\n",
    "M_purcahse"
   ]
  },
  {
   "cell_type": "code",
   "execution_count": 46,
   "id": "a3fc8785",
   "metadata": {},
   "outputs": [
    {
     "data": {
      "text/plain": [
       "544"
      ]
     },
     "execution_count": 46,
     "metadata": {},
     "output_type": "execute_result"
    }
   ],
   "source": [
    "F_purcahse = data.loc[data['Gender'] =='Female','Total_Purchases'].sum()\n",
    "F_purcahse"
   ]
  },
  {
   "cell_type": "code",
   "execution_count": 71,
   "id": "1733f1aa",
   "metadata": {},
   "outputs": [
    {
     "data": {
      "image/png": "[encoded data removed]",
      "text/plain": [
       "<Figure size 1000x700 with 1 Axes>"
      ]
     },
     "metadata": {},
     "output_type": "display_data"
    }
   ],
   "source": [
    "plt.figure(figsize=(10,7))\n",
    "sns.barplot(data, x = 'Gender',y = 'Total_Purchases',errorbar= None)\n",
    "plt.show()"
   ]
  },
  {
   "cell_type": "code",
   "execution_count": 70,
   "id": "9d04b885",
   "metadata": {},
   "outputs": [
    {
     "data": {
      "image/png": "[encoded data removed]",
      "text/plain": [
       "<Figure size 1000x700 with 1 Axes>"
      ]
     },
     "metadata": {},
     "output_type": "display_data"
    }
   ],
   "source": [
    "plt.figure(figsize=(10,7))\n",
    "sns.barplot(data, x = 'Device_Type',y = 'Total_Purchases',hue = 'Gender', errorbar = None)\n",
    "plt.show()"
   ]
  },
  {
   "cell_type": "code",
   "execution_count": 72,
   "id": "61ee768e",
   "metadata": {},
   "outputs": [
    {
     "data": {
      "text/plain": [
       "Mobile     178\n",
       "Tablet     163\n",
       "Desktop    159\n",
       "Name: Device_Type, dtype: int64"
      ]
     },
     "execution_count": 72,
     "metadata": {},
     "output_type": "execute_result"
    }
   ],
   "source": [
    "dev= data['Device_Type'].value_counts()\n",
    "dev"
   ]
  },
  {
   "cell_type": "code",
   "execution_count": 89,
   "id": "5f83ca5f",
   "metadata": {},
   "outputs": [
    {
     "data": {
      "text/plain": [
       "Device_Type\n",
       "Desktop    381\n",
       "Mobile     451\n",
       "Tablet     400\n",
       "Name: Total_Purchases, dtype: int64"
      ]
     },
     "execution_count": 89,
     "metadata": {},
     "output_type": "execute_result"
    }
   ],
   "source": [
    "Device = data.groupby('Device_Type')['Total_Purchases'].sum()\n",
    "Device"
   ]
  },
  {
   "cell_type": "code",
   "execution_count": 138,
   "id": "fd40180b",
   "metadata": {},
   "outputs": [
    {
     "data": {
      "image/png": "[encoded data removed]",
      "text/plain": [
       "<Figure size 1000x800 with 1 Axes>"
      ]
     },
     "metadata": {},
     "output_type": "display_data"
    }
   ],
   "source": [
    "plt.figure(figsize=(10,8))\n",
    "pie1 = Device.plot.pie(autopct='%1.1f%%', startangle=90)\n",
    "plt.title('Purcahse Through Device', fontsize =12)\n",
    "pie.legend(loc='upper right')\n",
    "plt.show()"
   ]
  },
  {
   "cell_type": "code",
   "execution_count": 103,
   "id": "eaf56fda",
   "metadata": {},
   "outputs": [
    {
     "data": {
      "text/plain": [
       "Device_Type\n",
       "Desktop    4743\n",
       "Mobile     5459\n",
       "Tablet     5168\n",
       "Name: Product_Browsing_Time, dtype: int64"
      ]
     },
     "execution_count": 103,
     "metadata": {},
     "output_type": "execute_result"
    }
   ],
   "source": [
    "Brow = data.groupby('Device_Type')['Product_Browsing_Time'].sum()\n",
    "Brow"
   ]
  },
  {
   "cell_type": "code",
   "execution_count": 139,
   "id": "5f302bee",
   "metadata": {},
   "outputs": [
    {
     "data": {
      "image/png": "[encoded data removed]",
      "text/plain": [
       "<Figure size 1000x800 with 1 Axes>"
      ]
     },
     "metadata": {},
     "output_type": "display_data"
    }
   ],
   "source": [
    "plt.figure(figsize=(10,8))\n",
    "pie2 = Brow.plot.pie(autopct='%1.1f%%', startangle=90)\n",
    "plt.title('Device browsing time', fontsize =12)\n",
    "pie2.legend(loc='upper right')\n",
    "plt.show()"
   ]
  },
  {
   "cell_type": "markdown",
   "id": "f12f1eda",
   "metadata": {},
   "source": [
    "## Take away\n",
    "\n",
    "1. Most of the purchase has done by Male.\n",
    "2. Most of the purchase has done through Mobile\n",
    "3. Mobile ha sused more time to browse through the site."
   ]
  },
  {
   "cell_type": "code",
   "execution_count": 106,
   "id": "c0714309",
   "metadata": {},
   "outputs": [
    {
     "data": {
      "text/plain": [
       "Index(['User_ID', 'Gender', 'Age', 'Location', 'Device_Type',\n",
       "       'Product_Browsing_Time', 'Total_Pages_Viewed', 'Items_Added_to_Cart',\n",
       "       'Total_Purchases'],\n",
       "      dtype='object')"
      ]
     },
     "execution_count": 106,
     "metadata": {},
     "output_type": "execute_result"
    }
   ],
   "source": [
    "data.columns"
   ]
  },
  {
   "cell_type": "code",
   "execution_count": 110,
   "id": "a4df3377",
   "metadata": {},
   "outputs": [
    {
     "data": {
      "text/plain": [
       "Location\n",
       "Ahmedabad    152\n",
       "Bangalore    147\n",
       "Chennai      143\n",
       "Delhi        191\n",
       "Hyderabad    138\n",
       "Kolkata      190\n",
       "Mumbai       145\n",
       "Pune         126\n",
       "Name: Total_Purchases, dtype: int64"
      ]
     },
     "execution_count": 110,
     "metadata": {},
     "output_type": "execute_result"
    }
   ],
   "source": [
    "location = data.groupby('Location')['Total_Purchases'].sum()\n",
    "location"
   ]
  },
  {
   "cell_type": "code",
   "execution_count": 140,
   "id": "704d5c96",
   "metadata": {},
   "outputs": [
    {
     "data": {
      "image/png": "[encoded data removed]",
      "text/plain": [
       "<Figure size 1000x800 with 1 Axes>"
      ]
     },
     "metadata": {},
     "output_type": "display_data"
    }
   ],
   "source": [
    "plt.figure(figsize=(10,8))\n",
    "pie3 = location.plot.pie(autopct='%1.1f%%', startangle=90)\n",
    "plt.title('Location', fontsize =12)\n",
    "pie3.legend(loc='upper right')\n",
    "plt.show()"
   ]
  },
  {
   "cell_type": "markdown",
   "id": "226cfe8d",
   "metadata": {},
   "source": [
    "## Take away\n",
    "\n",
    "###  Delhi have more purcahses than any other location with 15.5% and Kolkata have 15.4% which is slightly less than Delhi percentage."
   ]
  },
  {
   "cell_type": "code",
   "execution_count": 131,
   "id": "80f796b7",
   "metadata": {},
   "outputs": [
    {
     "data": {
      "image/png": "[encoded data removed]",
      "text/plain": [
       "<Figure size 1000x800 with 1 Axes>"
      ]
     },
     "metadata": {},
     "output_type": "display_data"
    }
   ],
   "source": [
    "plt.figure(figsize=(10,8))\n",
    "sns.barplot(data,x='Items_Added_to_Cart',y='Device_Type' ,hue = 'Total_Purchases',errorbar= None)\n",
    "plt.show()"
   ]
  },
  {
   "cell_type": "code",
   "execution_count": 5,
   "id": "f3822d39",
   "metadata": {},
   "outputs": [
    {
     "data": {
      "text/plain": [
       "47.84"
      ]
     },
     "execution_count": 5,
     "metadata": {},
     "output_type": "execute_result"
    }
   ],
   "source": [
    "item_cart =  (data['Total_Purchases'].sum() / data['Items_Added_to_Cart'].sum()) * 100\n",
    "item_cart.round(2)"
   ]
  },
  {
   "cell_type": "markdown",
   "id": "ea72d12f",
   "metadata": {},
   "source": [
    "## Take away\n",
    "\n",
    "### From the graph we can analyse that items added to cart are not purchased always. And from the calculation only 47.84% is  purcahsed from the cart."
   ]
  },
  {
   "cell_type": "code",
   "execution_count": 135,
   "id": "5f688349",
   "metadata": {
    "collapsed": true
   },
   "outputs": [
    {
     "data": {
      "text/plain": [
       "21    36\n",
       "29    35\n",
       "23    32\n",
       "27    32\n",
       "35    30\n",
       "22    30\n",
       "18    29\n",
       "32    28\n",
       "28    28\n",
       "25    27\n",
       "26    27\n",
       "19    26\n",
       "31    26\n",
       "24    25\n",
       "20    24\n",
       "30    23\n",
       "34    22\n",
       "33    20\n",
       "Name: Age, dtype: int64"
      ]
     },
     "execution_count": 135,
     "metadata": {},
     "output_type": "execute_result"
    }
   ],
   "source": [
    "data['Age'].value_counts()"
   ]
  },
  {
   "cell_type": "markdown",
   "id": "9672fc71",
   "metadata": {},
   "source": [
    "### Now we categories based on age, i.e from 10 to 19 as below_age, 20 to 29 as mid_age and 30 above as above_age"
   ]
  },
  {
   "cell_type": "code",
   "execution_count": 7,
   "id": "eb035817",
   "metadata": {},
   "outputs": [
    {
     "data": {
      "text/html": [
       "<div>\n",
       "<style scoped>\n",
       "    .dataframe tbody tr th:only-of-type {\n",
       "        vertical-align: middle;\n",
       "    }\n",
       "\n",
       "    .dataframe tbody tr th {\n",
       "        vertical-align: top;\n",
       "    }\n",
       "\n",
       "    .dataframe thead th {\n",
       "        text-align: right;\n",
       "    }\n",
       "</style>\n",
       "<table border=\"1\" class=\"dataframe\">\n",
       "  <thead>\n",
       "    <tr style=\"text-align: right;\">\n",
       "      <th></th>\n",
       "      <th>User_ID</th>\n",
       "      <th>Gender</th>\n",
       "      <th>Age</th>\n",
       "      <th>Location</th>\n",
       "      <th>Device_Type</th>\n",
       "      <th>Product_Browsing_Time</th>\n",
       "      <th>Total_Pages_Viewed</th>\n",
       "      <th>Items_Added_to_Cart</th>\n",
       "      <th>Total_Purchases</th>\n",
       "    </tr>\n",
       "  </thead>\n",
       "  <tbody>\n",
       "    <tr>\n",
       "      <th>9</th>\n",
       "      <td>10</td>\n",
       "      <td>Female</td>\n",
       "      <td>18</td>\n",
       "      <td>Bangalore</td>\n",
       "      <td>Desktop</td>\n",
       "      <td>12</td>\n",
       "      <td>43</td>\n",
       "      <td>2</td>\n",
       "      <td>5</td>\n",
       "    </tr>\n",
       "    <tr>\n",
       "      <th>31</th>\n",
       "      <td>32</td>\n",
       "      <td>Female</td>\n",
       "      <td>18</td>\n",
       "      <td>Kolkata</td>\n",
       "      <td>Tablet</td>\n",
       "      <td>59</td>\n",
       "      <td>18</td>\n",
       "      <td>10</td>\n",
       "      <td>2</td>\n",
       "    </tr>\n",
       "    <tr>\n",
       "      <th>32</th>\n",
       "      <td>33</td>\n",
       "      <td>Female</td>\n",
       "      <td>18</td>\n",
       "      <td>Chennai</td>\n",
       "      <td>Mobile</td>\n",
       "      <td>19</td>\n",
       "      <td>28</td>\n",
       "      <td>10</td>\n",
       "      <td>5</td>\n",
       "    </tr>\n",
       "    <tr>\n",
       "      <th>33</th>\n",
       "      <td>34</td>\n",
       "      <td>Female</td>\n",
       "      <td>20</td>\n",
       "      <td>Delhi</td>\n",
       "      <td>Tablet</td>\n",
       "      <td>10</td>\n",
       "      <td>40</td>\n",
       "      <td>10</td>\n",
       "      <td>2</td>\n",
       "    </tr>\n",
       "    <tr>\n",
       "      <th>40</th>\n",
       "      <td>41</td>\n",
       "      <td>Female</td>\n",
       "      <td>19</td>\n",
       "      <td>Hyderabad</td>\n",
       "      <td>Mobile</td>\n",
       "      <td>55</td>\n",
       "      <td>32</td>\n",
       "      <td>7</td>\n",
       "      <td>4</td>\n",
       "    </tr>\n",
       "    <tr>\n",
       "      <th>...</th>\n",
       "      <td>...</td>\n",
       "      <td>...</td>\n",
       "      <td>...</td>\n",
       "      <td>...</td>\n",
       "      <td>...</td>\n",
       "      <td>...</td>\n",
       "      <td>...</td>\n",
       "      <td>...</td>\n",
       "      <td>...</td>\n",
       "    </tr>\n",
       "    <tr>\n",
       "      <th>475</th>\n",
       "      <td>476</td>\n",
       "      <td>Male</td>\n",
       "      <td>18</td>\n",
       "      <td>Delhi</td>\n",
       "      <td>Mobile</td>\n",
       "      <td>16</td>\n",
       "      <td>41</td>\n",
       "      <td>5</td>\n",
       "      <td>5</td>\n",
       "    </tr>\n",
       "    <tr>\n",
       "      <th>478</th>\n",
       "      <td>479</td>\n",
       "      <td>Male</td>\n",
       "      <td>20</td>\n",
       "      <td>Chennai</td>\n",
       "      <td>Desktop</td>\n",
       "      <td>14</td>\n",
       "      <td>34</td>\n",
       "      <td>3</td>\n",
       "      <td>1</td>\n",
       "    </tr>\n",
       "    <tr>\n",
       "      <th>481</th>\n",
       "      <td>482</td>\n",
       "      <td>Male</td>\n",
       "      <td>19</td>\n",
       "      <td>Bangalore</td>\n",
       "      <td>Mobile</td>\n",
       "      <td>46</td>\n",
       "      <td>25</td>\n",
       "      <td>9</td>\n",
       "      <td>0</td>\n",
       "    </tr>\n",
       "    <tr>\n",
       "      <th>491</th>\n",
       "      <td>492</td>\n",
       "      <td>Female</td>\n",
       "      <td>18</td>\n",
       "      <td>Kolkata</td>\n",
       "      <td>Desktop</td>\n",
       "      <td>45</td>\n",
       "      <td>18</td>\n",
       "      <td>3</td>\n",
       "      <td>4</td>\n",
       "    </tr>\n",
       "    <tr>\n",
       "      <th>497</th>\n",
       "      <td>498</td>\n",
       "      <td>Male</td>\n",
       "      <td>19</td>\n",
       "      <td>Pune</td>\n",
       "      <td>Desktop</td>\n",
       "      <td>33</td>\n",
       "      <td>41</td>\n",
       "      <td>0</td>\n",
       "      <td>3</td>\n",
       "    </tr>\n",
       "  </tbody>\n",
       "</table>\n",
       "<p>79 rows × 9 columns</p>\n",
       "</div>"
      ],
      "text/plain": [
       "     User_ID  Gender  Age   Location Device_Type  Product_Browsing_Time  \\\n",
       "9         10  Female   18  Bangalore     Desktop                     12   \n",
       "31        32  Female   18    Kolkata      Tablet                     59   \n",
       "32        33  Female   18    Chennai      Mobile                     19   \n",
       "33        34  Female   20      Delhi      Tablet                     10   \n",
       "40        41  Female   19  Hyderabad      Mobile                     55   \n",
       "..       ...     ...  ...        ...         ...                    ...   \n",
       "475      476    Male   18      Delhi      Mobile                     16   \n",
       "478      479    Male   20    Chennai     Desktop                     14   \n",
       "481      482    Male   19  Bangalore      Mobile                     46   \n",
       "491      492  Female   18    Kolkata     Desktop                     45   \n",
       "497      498    Male   19       Pune     Desktop                     33   \n",
       "\n",
       "     Total_Pages_Viewed  Items_Added_to_Cart  Total_Purchases  \n",
       "9                    43                    2                5  \n",
       "31                   18                   10                2  \n",
       "32                   28                   10                5  \n",
       "33                   40                   10                2  \n",
       "40                   32                    7                4  \n",
       "..                  ...                  ...              ...  \n",
       "475                  41                    5                5  \n",
       "478                  34                    3                1  \n",
       "481                  25                    9                0  \n",
       "491                  18                    3                4  \n",
       "497                  41                    0                3  \n",
       "\n",
       "[79 rows x 9 columns]"
      ]
     },
     "execution_count": 7,
     "metadata": {},
     "output_type": "execute_result"
    }
   ],
   "source": [
    "below_age = data[data['Age'] <21]\n",
    "below_age "
   ]
  },
  {
   "cell_type": "code",
   "execution_count": 8,
   "id": "e51903ff",
   "metadata": {},
   "outputs": [
    {
     "data": {
      "text/plain": [
       "Location\n",
       "Ahmedabad    19\n",
       "Bangalore    24\n",
       "Chennai      27\n",
       "Delhi        45\n",
       "Hyderabad    31\n",
       "Kolkata      28\n",
       "Mumbai       26\n",
       "Pune         17\n",
       "Name: Total_Purchases, dtype: int64"
      ]
     },
     "execution_count": 8,
     "metadata": {},
     "output_type": "execute_result"
    }
   ],
   "source": [
    "B_age=below_age.groupby('Location')['Total_Purchases'].sum()\n",
    "B_age"
   ]
  },
  {
   "cell_type": "code",
   "execution_count": 9,
   "id": "044d0d9a",
   "metadata": {
    "scrolled": true
   },
   "outputs": [
    {
     "data": {
      "image/png": "[encoded data removed]",
      "text/plain": [
       "<Figure size 1000x800 with 1 Axes>"
      ]
     },
     "metadata": {},
     "output_type": "display_data"
    }
   ],
   "source": [
    "plt.figure(figsize=(10,8))\n",
    "pie4 = B_age.plot.pie(autopct='%1.1f%%', startangle=90)\n",
    "plt.title('Location', fontsize =12)\n",
    "pie4.legend(loc='upper right')\n",
    "plt.show()"
   ]
  },
  {
   "cell_type": "markdown",
   "id": "76875ce1",
   "metadata": {},
   "source": [
    "### Delhi is the most purcahsed location having age below 20"
   ]
  },
  {
   "cell_type": "code",
   "execution_count": 10,
   "id": "8cbcaa88",
   "metadata": {},
   "outputs": [
    {
     "data": {
      "image/png": "[encoded data removed]",
      "text/plain": [
       "<Figure size 1000x800 with 1 Axes>"
      ]
     },
     "metadata": {},
     "output_type": "display_data"
    }
   ],
   "source": [
    "plt.figure(figsize=(10,8))\n",
    "sns.barplot(below_age, hue= 'Device_Type', y= 'Product_Browsing_Time',x = 'Total_Purchases',errorbar= None )\n",
    "plt.show()"
   ]
  },
  {
   "cell_type": "markdown",
   "id": "db782606",
   "metadata": {},
   "source": [
    "## take away\n",
    "\n",
    "1. Mobile is used more and second is laptop is used for browsing and purchase of products by below aged customers."
   ]
  },
  {
   "cell_type": "code",
   "execution_count": 153,
   "id": "17ee1c66",
   "metadata": {},
   "outputs": [
    {
     "data": {
      "text/html": [
       "<div>\n",
       "<style scoped>\n",
       "    .dataframe tbody tr th:only-of-type {\n",
       "        vertical-align: middle;\n",
       "    }\n",
       "\n",
       "    .dataframe tbody tr th {\n",
       "        vertical-align: top;\n",
       "    }\n",
       "\n",
       "    .dataframe thead th {\n",
       "        text-align: right;\n",
       "    }\n",
       "</style>\n",
       "<table border=\"1\" class=\"dataframe\">\n",
       "  <thead>\n",
       "    <tr style=\"text-align: right;\">\n",
       "      <th></th>\n",
       "      <th>User_ID</th>\n",
       "      <th>Gender</th>\n",
       "      <th>Age</th>\n",
       "      <th>Location</th>\n",
       "      <th>Device_Type</th>\n",
       "      <th>Product_Browsing_Time</th>\n",
       "      <th>Total_Pages_Viewed</th>\n",
       "      <th>Items_Added_to_Cart</th>\n",
       "      <th>Total_Purchases</th>\n",
       "    </tr>\n",
       "  </thead>\n",
       "  <tbody>\n",
       "    <tr>\n",
       "      <th>0</th>\n",
       "      <td>1</td>\n",
       "      <td>Female</td>\n",
       "      <td>23</td>\n",
       "      <td>Ahmedabad</td>\n",
       "      <td>Mobile</td>\n",
       "      <td>60</td>\n",
       "      <td>30</td>\n",
       "      <td>1</td>\n",
       "      <td>0</td>\n",
       "    </tr>\n",
       "    <tr>\n",
       "      <th>1</th>\n",
       "      <td>2</td>\n",
       "      <td>Male</td>\n",
       "      <td>25</td>\n",
       "      <td>Kolkata</td>\n",
       "      <td>Tablet</td>\n",
       "      <td>30</td>\n",
       "      <td>38</td>\n",
       "      <td>9</td>\n",
       "      <td>4</td>\n",
       "    </tr>\n",
       "    <tr>\n",
       "      <th>4</th>\n",
       "      <td>5</td>\n",
       "      <td>Male</td>\n",
       "      <td>27</td>\n",
       "      <td>Bangalore</td>\n",
       "      <td>Tablet</td>\n",
       "      <td>35</td>\n",
       "      <td>20</td>\n",
       "      <td>8</td>\n",
       "      <td>2</td>\n",
       "    </tr>\n",
       "    <tr>\n",
       "      <th>6</th>\n",
       "      <td>7</td>\n",
       "      <td>Female</td>\n",
       "      <td>22</td>\n",
       "      <td>Delhi</td>\n",
       "      <td>Mobile</td>\n",
       "      <td>13</td>\n",
       "      <td>14</td>\n",
       "      <td>3</td>\n",
       "      <td>0</td>\n",
       "    </tr>\n",
       "    <tr>\n",
       "      <th>7</th>\n",
       "      <td>8</td>\n",
       "      <td>Female</td>\n",
       "      <td>25</td>\n",
       "      <td>Pune</td>\n",
       "      <td>Mobile</td>\n",
       "      <td>42</td>\n",
       "      <td>24</td>\n",
       "      <td>10</td>\n",
       "      <td>2</td>\n",
       "    </tr>\n",
       "    <tr>\n",
       "      <th>...</th>\n",
       "      <td>...</td>\n",
       "      <td>...</td>\n",
       "      <td>...</td>\n",
       "      <td>...</td>\n",
       "      <td>...</td>\n",
       "      <td>...</td>\n",
       "      <td>...</td>\n",
       "      <td>...</td>\n",
       "      <td>...</td>\n",
       "    </tr>\n",
       "    <tr>\n",
       "      <th>492</th>\n",
       "      <td>493</td>\n",
       "      <td>Female</td>\n",
       "      <td>24</td>\n",
       "      <td>Pune</td>\n",
       "      <td>Desktop</td>\n",
       "      <td>43</td>\n",
       "      <td>16</td>\n",
       "      <td>10</td>\n",
       "      <td>2</td>\n",
       "    </tr>\n",
       "    <tr>\n",
       "      <th>493</th>\n",
       "      <td>494</td>\n",
       "      <td>Male</td>\n",
       "      <td>29</td>\n",
       "      <td>Hyderabad</td>\n",
       "      <td>Mobile</td>\n",
       "      <td>18</td>\n",
       "      <td>13</td>\n",
       "      <td>0</td>\n",
       "      <td>3</td>\n",
       "    </tr>\n",
       "    <tr>\n",
       "      <th>495</th>\n",
       "      <td>496</td>\n",
       "      <td>Male</td>\n",
       "      <td>24</td>\n",
       "      <td>Mumbai</td>\n",
       "      <td>Tablet</td>\n",
       "      <td>40</td>\n",
       "      <td>45</td>\n",
       "      <td>0</td>\n",
       "      <td>0</td>\n",
       "    </tr>\n",
       "    <tr>\n",
       "      <th>496</th>\n",
       "      <td>497</td>\n",
       "      <td>Female</td>\n",
       "      <td>24</td>\n",
       "      <td>Hyderabad</td>\n",
       "      <td>Desktop</td>\n",
       "      <td>8</td>\n",
       "      <td>34</td>\n",
       "      <td>4</td>\n",
       "      <td>5</td>\n",
       "    </tr>\n",
       "    <tr>\n",
       "      <th>498</th>\n",
       "      <td>499</td>\n",
       "      <td>Male</td>\n",
       "      <td>28</td>\n",
       "      <td>Chennai</td>\n",
       "      <td>Desktop</td>\n",
       "      <td>6</td>\n",
       "      <td>32</td>\n",
       "      <td>7</td>\n",
       "      <td>4</td>\n",
       "    </tr>\n",
       "  </tbody>\n",
       "</table>\n",
       "<p>272 rows × 9 columns</p>\n",
       "</div>"
      ],
      "text/plain": [
       "     User_ID  Gender  Age   Location Device_Type  Product_Browsing_Time  \\\n",
       "0          1  Female   23  Ahmedabad      Mobile                     60   \n",
       "1          2    Male   25    Kolkata      Tablet                     30   \n",
       "4          5    Male   27  Bangalore      Tablet                     35   \n",
       "6          7  Female   22      Delhi      Mobile                     13   \n",
       "7          8  Female   25       Pune      Mobile                     42   \n",
       "..       ...     ...  ...        ...         ...                    ...   \n",
       "492      493  Female   24       Pune     Desktop                     43   \n",
       "493      494    Male   29  Hyderabad      Mobile                     18   \n",
       "495      496    Male   24     Mumbai      Tablet                     40   \n",
       "496      497  Female   24  Hyderabad     Desktop                      8   \n",
       "498      499    Male   28    Chennai     Desktop                      6   \n",
       "\n",
       "     Total_Pages_Viewed  Items_Added_to_Cart  Total_Purchases  \n",
       "0                    30                    1                0  \n",
       "1                    38                    9                4  \n",
       "4                    20                    8                2  \n",
       "6                    14                    3                0  \n",
       "7                    24                   10                2  \n",
       "..                  ...                  ...              ...  \n",
       "492                  16                   10                2  \n",
       "493                  13                    0                3  \n",
       "495                  45                    0                0  \n",
       "496                  34                    4                5  \n",
       "498                  32                    7                4  \n",
       "\n",
       "[272 rows x 9 columns]"
      ]
     },
     "execution_count": 153,
     "metadata": {},
     "output_type": "execute_result"
    }
   ],
   "source": [
    "mid_age = data[(data['Age'] >20) & (data['Age'] <30 )]\n",
    "mid_age "
   ]
  },
  {
   "cell_type": "code",
   "execution_count": 154,
   "id": "eaeda85b",
   "metadata": {},
   "outputs": [
    {
     "data": {
      "text/plain": [
       "Location\n",
       "Ahmedabad     79\n",
       "Bangalore     81\n",
       "Chennai       83\n",
       "Delhi         87\n",
       "Hyderabad     71\n",
       "Kolkata      103\n",
       "Mumbai        79\n",
       "Pune          67\n",
       "Name: Total_Purchases, dtype: int64"
      ]
     },
     "execution_count": 154,
     "metadata": {},
     "output_type": "execute_result"
    }
   ],
   "source": [
    "M_age=mid_age .groupby('Location')['Total_Purchases'].sum()\n",
    "M_age"
   ]
  },
  {
   "cell_type": "code",
   "execution_count": 156,
   "id": "ecfa07d5",
   "metadata": {
    "collapsed": true
   },
   "outputs": [
    {
     "data": {
      "text/plain": [
       "Location\n",
       "Ahmedabad    1070\n",
       "Bangalore    1131\n",
       "Chennai       881\n",
       "Delhi        1135\n",
       "Hyderabad    1078\n",
       "Kolkata      1196\n",
       "Mumbai       1017\n",
       "Pune          968\n",
       "Name: Product_Browsing_Time, dtype: int64"
      ]
     },
     "execution_count": 156,
     "metadata": {},
     "output_type": "execute_result"
    }
   ],
   "source": [
    "mid_age .groupby('Location')['Product_Browsing_Time'].sum()"
   ]
  },
  {
   "cell_type": "code",
   "execution_count": 155,
   "id": "3bebaf05",
   "metadata": {},
   "outputs": [
    {
     "data": {
      "image/png": "[encoded data removed]",
      "text/plain": [
       "<Figure size 1000x800 with 1 Axes>"
      ]
     },
     "metadata": {},
     "output_type": "display_data"
    }
   ],
   "source": [
    "plt.figure(figsize=(10,8))\n",
    "pie5 = M_age.plot.pie(autopct='%1.1f%%', startangle=90)\n",
    "plt.title('Location', fontsize =12)\n",
    "pie5.legend(loc='upper right')\n",
    "plt.show()"
   ]
  },
  {
   "cell_type": "markdown",
   "id": "cd922a8d",
   "metadata": {},
   "source": [
    "## Kolkata (15.8%)have more purcahse than other location."
   ]
  },
  {
   "cell_type": "code",
   "execution_count": 159,
   "id": "0e7a82eb",
   "metadata": {},
   "outputs": [
    {
     "data": {
      "image/png": "[encoded data removed]",
      "text/plain": [
       "<Figure size 1000x800 with 1 Axes>"
      ]
     },
     "metadata": {},
     "output_type": "display_data"
    }
   ],
   "source": [
    "plt.figure(figsize=(10,8))\n",
    "sns.barplot(mid_age , hue= 'Device_Type', y= 'Product_Browsing_Time',x ='Total_Purchases',errorbar= None )\n",
    "plt.show()"
   ]
  },
  {
   "cell_type": "code",
   "execution_count": 161,
   "id": "9ebb84a5",
   "metadata": {},
   "outputs": [
    {
     "data": {
      "text/plain": [
       "Device_Type\n",
       "Desktop    187\n",
       "Mobile     222\n",
       "Tablet     241\n",
       "Name: Total_Purchases, dtype: int64"
      ]
     },
     "execution_count": 161,
     "metadata": {},
     "output_type": "execute_result"
    }
   ],
   "source": [
    "mid_age .groupby('Device_Type')['Total_Purchases'].sum()"
   ]
  },
  {
   "cell_type": "markdown",
   "id": "b78f2f91",
   "metadata": {},
   "source": [
    "## take away\n",
    "\n",
    "1. Tablet is used more and second is mobile is used for browsing and purchase of products by mid aged customers."
   ]
  },
  {
   "cell_type": "code",
   "execution_count": 162,
   "id": "1d88bd76",
   "metadata": {},
   "outputs": [
    {
     "data": {
      "text/html": [
       "<div>\n",
       "<style scoped>\n",
       "    .dataframe tbody tr th:only-of-type {\n",
       "        vertical-align: middle;\n",
       "    }\n",
       "\n",
       "    .dataframe tbody tr th {\n",
       "        vertical-align: top;\n",
       "    }\n",
       "\n",
       "    .dataframe thead th {\n",
       "        text-align: right;\n",
       "    }\n",
       "</style>\n",
       "<table border=\"1\" class=\"dataframe\">\n",
       "  <thead>\n",
       "    <tr style=\"text-align: right;\">\n",
       "      <th></th>\n",
       "      <th>User_ID</th>\n",
       "      <th>Gender</th>\n",
       "      <th>Age</th>\n",
       "      <th>Location</th>\n",
       "      <th>Device_Type</th>\n",
       "      <th>Product_Browsing_Time</th>\n",
       "      <th>Total_Pages_Viewed</th>\n",
       "      <th>Items_Added_to_Cart</th>\n",
       "      <th>Total_Purchases</th>\n",
       "    </tr>\n",
       "  </thead>\n",
       "  <tbody>\n",
       "    <tr>\n",
       "      <th>2</th>\n",
       "      <td>3</td>\n",
       "      <td>Male</td>\n",
       "      <td>32</td>\n",
       "      <td>Bangalore</td>\n",
       "      <td>Desktop</td>\n",
       "      <td>37</td>\n",
       "      <td>13</td>\n",
       "      <td>5</td>\n",
       "      <td>0</td>\n",
       "    </tr>\n",
       "    <tr>\n",
       "      <th>3</th>\n",
       "      <td>4</td>\n",
       "      <td>Male</td>\n",
       "      <td>35</td>\n",
       "      <td>Delhi</td>\n",
       "      <td>Mobile</td>\n",
       "      <td>7</td>\n",
       "      <td>20</td>\n",
       "      <td>10</td>\n",
       "      <td>3</td>\n",
       "    </tr>\n",
       "    <tr>\n",
       "      <th>5</th>\n",
       "      <td>6</td>\n",
       "      <td>Male</td>\n",
       "      <td>31</td>\n",
       "      <td>Kolkata</td>\n",
       "      <td>Mobile</td>\n",
       "      <td>34</td>\n",
       "      <td>47</td>\n",
       "      <td>5</td>\n",
       "      <td>4</td>\n",
       "    </tr>\n",
       "    <tr>\n",
       "      <th>8</th>\n",
       "      <td>9</td>\n",
       "      <td>Male</td>\n",
       "      <td>33</td>\n",
       "      <td>Mumbai</td>\n",
       "      <td>Desktop</td>\n",
       "      <td>21</td>\n",
       "      <td>18</td>\n",
       "      <td>5</td>\n",
       "      <td>5</td>\n",
       "    </tr>\n",
       "    <tr>\n",
       "      <th>10</th>\n",
       "      <td>11</td>\n",
       "      <td>Female</td>\n",
       "      <td>30</td>\n",
       "      <td>Ahmedabad</td>\n",
       "      <td>Tablet</td>\n",
       "      <td>31</td>\n",
       "      <td>15</td>\n",
       "      <td>9</td>\n",
       "      <td>5</td>\n",
       "    </tr>\n",
       "    <tr>\n",
       "      <th>...</th>\n",
       "      <td>...</td>\n",
       "      <td>...</td>\n",
       "      <td>...</td>\n",
       "      <td>...</td>\n",
       "      <td>...</td>\n",
       "      <td>...</td>\n",
       "      <td>...</td>\n",
       "      <td>...</td>\n",
       "      <td>...</td>\n",
       "    </tr>\n",
       "    <tr>\n",
       "      <th>483</th>\n",
       "      <td>484</td>\n",
       "      <td>Female</td>\n",
       "      <td>32</td>\n",
       "      <td>Kolkata</td>\n",
       "      <td>Desktop</td>\n",
       "      <td>39</td>\n",
       "      <td>47</td>\n",
       "      <td>7</td>\n",
       "      <td>0</td>\n",
       "    </tr>\n",
       "    <tr>\n",
       "      <th>484</th>\n",
       "      <td>485</td>\n",
       "      <td>Male</td>\n",
       "      <td>31</td>\n",
       "      <td>Pune</td>\n",
       "      <td>Mobile</td>\n",
       "      <td>12</td>\n",
       "      <td>42</td>\n",
       "      <td>3</td>\n",
       "      <td>3</td>\n",
       "    </tr>\n",
       "    <tr>\n",
       "      <th>486</th>\n",
       "      <td>487</td>\n",
       "      <td>Female</td>\n",
       "      <td>32</td>\n",
       "      <td>Hyderabad</td>\n",
       "      <td>Mobile</td>\n",
       "      <td>50</td>\n",
       "      <td>11</td>\n",
       "      <td>6</td>\n",
       "      <td>4</td>\n",
       "    </tr>\n",
       "    <tr>\n",
       "      <th>494</th>\n",
       "      <td>495</td>\n",
       "      <td>Male</td>\n",
       "      <td>31</td>\n",
       "      <td>Pune</td>\n",
       "      <td>Desktop</td>\n",
       "      <td>32</td>\n",
       "      <td>25</td>\n",
       "      <td>2</td>\n",
       "      <td>1</td>\n",
       "    </tr>\n",
       "    <tr>\n",
       "      <th>499</th>\n",
       "      <td>500</td>\n",
       "      <td>Female</td>\n",
       "      <td>31</td>\n",
       "      <td>Kolkata</td>\n",
       "      <td>Mobile</td>\n",
       "      <td>16</td>\n",
       "      <td>10</td>\n",
       "      <td>10</td>\n",
       "      <td>4</td>\n",
       "    </tr>\n",
       "  </tbody>\n",
       "</table>\n",
       "<p>149 rows × 9 columns</p>\n",
       "</div>"
      ],
      "text/plain": [
       "     User_ID  Gender  Age   Location Device_Type  Product_Browsing_Time  \\\n",
       "2          3    Male   32  Bangalore     Desktop                     37   \n",
       "3          4    Male   35      Delhi      Mobile                      7   \n",
       "5          6    Male   31    Kolkata      Mobile                     34   \n",
       "8          9    Male   33     Mumbai     Desktop                     21   \n",
       "10        11  Female   30  Ahmedabad      Tablet                     31   \n",
       "..       ...     ...  ...        ...         ...                    ...   \n",
       "483      484  Female   32    Kolkata     Desktop                     39   \n",
       "484      485    Male   31       Pune      Mobile                     12   \n",
       "486      487  Female   32  Hyderabad      Mobile                     50   \n",
       "494      495    Male   31       Pune     Desktop                     32   \n",
       "499      500  Female   31    Kolkata      Mobile                     16   \n",
       "\n",
       "     Total_Pages_Viewed  Items_Added_to_Cart  Total_Purchases  \n",
       "2                    13                    5                0  \n",
       "3                    20                   10                3  \n",
       "5                    47                    5                4  \n",
       "8                    18                    5                5  \n",
       "10                   15                    9                5  \n",
       "..                  ...                  ...              ...  \n",
       "483                  47                    7                0  \n",
       "484                  42                    3                3  \n",
       "486                  11                    6                4  \n",
       "494                  25                    2                1  \n",
       "499                  10                   10                4  \n",
       "\n",
       "[149 rows x 9 columns]"
      ]
     },
     "execution_count": 162,
     "metadata": {},
     "output_type": "execute_result"
    }
   ],
   "source": [
    "above_age = data[data['Age'] >29]\n",
    "above_age"
   ]
  },
  {
   "cell_type": "code",
   "execution_count": 163,
   "id": "fe6d9d94",
   "metadata": {},
   "outputs": [
    {
     "data": {
      "text/plain": [
       "Location\n",
       "Ahmedabad    54\n",
       "Bangalore    42\n",
       "Chennai      33\n",
       "Delhi        59\n",
       "Hyderabad    36\n",
       "Kolkata      59\n",
       "Mumbai       40\n",
       "Pune         42\n",
       "Name: Total_Purchases, dtype: int64"
      ]
     },
     "execution_count": 163,
     "metadata": {},
     "output_type": "execute_result"
    }
   ],
   "source": [
    "Ab_age=above_age .groupby('Location')['Total_Purchases'].sum()\n",
    "Ab_age"
   ]
  },
  {
   "cell_type": "code",
   "execution_count": 164,
   "id": "86769fca",
   "metadata": {},
   "outputs": [
    {
     "data": {
      "image/png": "[encoded data removed]",
      "text/plain": [
       "<Figure size 1000x800 with 1 Axes>"
      ]
     },
     "metadata": {},
     "output_type": "display_data"
    }
   ],
   "source": [
    "plt.figure(figsize=(10,8))\n",
    "pie6 = Ab_age.plot.pie(autopct='%1.1f%%', startangle=90)\n",
    "plt.title('Location', fontsize =12)\n",
    "pie6.legend(loc='upper right')\n",
    "plt.show()"
   ]
  },
  {
   "cell_type": "markdown",
   "id": "7bd3e695",
   "metadata": {},
   "source": [
    "## Delhi and Kolkata have same purcahse 16.2%"
   ]
  },
  {
   "cell_type": "code",
   "execution_count": 165,
   "id": "a1b823a7",
   "metadata": {},
   "outputs": [
    {
     "data": {
      "image/png": "[encoded data removed]",
      "text/plain": [
       "<Figure size 1000x800 with 1 Axes>"
      ]
     },
     "metadata": {},
     "output_type": "display_data"
    }
   ],
   "source": [
    "plt.figure(figsize=(10,8))\n",
    "sns.barplot(above_age , hue= 'Device_Type', y= 'Product_Browsing_Time',x ='Total_Purchases',errorbar= None )\n",
    "plt.show()"
   ]
  },
  {
   "cell_type": "markdown",
   "id": "03341b54",
   "metadata": {},
   "source": [
    "## Take away\n",
    "\n",
    "1. Tablet is used more for browsing and purchase of products by above aged customers."
   ]
  },
  {
   "cell_type": "code",
   "execution_count": 170,
   "id": "90f52cf5",
   "metadata": {},
   "outputs": [
    {
     "data": {
      "text/plain": [
       "Device_Type\n",
       "Desktop    184\n",
       "Mobile     267\n",
       "Tablet     237\n",
       "Name: Total_Purchases, dtype: int64"
      ]
     },
     "execution_count": 170,
     "metadata": {},
     "output_type": "execute_result"
    }
   ],
   "source": [
    "male .groupby('Device_Type')['Total_Purchases'].sum()"
   ]
  },
  {
   "cell_type": "code",
   "execution_count": 171,
   "id": "ba95d3b4",
   "metadata": {},
   "outputs": [
    {
     "data": {
      "text/plain": [
       "Device_Type\n",
       "Desktop    2209\n",
       "Mobile     2723\n",
       "Tablet     2898\n",
       "Name: Product_Browsing_Time, dtype: int64"
      ]
     },
     "execution_count": 171,
     "metadata": {},
     "output_type": "execute_result"
    }
   ],
   "source": [
    "male .groupby('Device_Type')['Product_Browsing_Time'].sum()"
   ]
  },
  {
   "cell_type": "code",
   "execution_count": 172,
   "id": "a9f546ca",
   "metadata": {},
   "outputs": [
    {
     "data": {
      "image/png": "[encoded data removed]",
      "text/plain": [
       "<Figure size 1000x800 with 1 Axes>"
      ]
     },
     "metadata": {},
     "output_type": "display_data"
    }
   ],
   "source": [
    "plt.figure(figsize=(10,8))\n",
    "sns.barplot(male , x= 'Device_Type', y= 'Product_Browsing_Time',hue ='Total_Purchases',errorbar= None )\n",
    "plt.title('Male')\n",
    "plt.show()"
   ]
  },
  {
   "cell_type": "code",
   "execution_count": 173,
   "id": "ff0a71ac",
   "metadata": {},
   "outputs": [
    {
     "data": {
      "text/plain": [
       "Device_Type\n",
       "Desktop    197\n",
       "Mobile     184\n",
       "Tablet     163\n",
       "Name: Total_Purchases, dtype: int64"
      ]
     },
     "execution_count": 173,
     "metadata": {},
     "output_type": "execute_result"
    }
   ],
   "source": [
    "female .groupby('Device_Type')['Total_Purchases'].sum()"
   ]
  },
  {
   "cell_type": "code",
   "execution_count": 174,
   "id": "8c5c7e08",
   "metadata": {},
   "outputs": [
    {
     "data": {
      "text/plain": [
       "Device_Type\n",
       "Desktop    2534\n",
       "Mobile     2736\n",
       "Tablet     2270\n",
       "Name: Product_Browsing_Time, dtype: int64"
      ]
     },
     "execution_count": 174,
     "metadata": {},
     "output_type": "execute_result"
    }
   ],
   "source": [
    "female .groupby('Device_Type')['Product_Browsing_Time'].sum()"
   ]
  },
  {
   "cell_type": "code",
   "execution_count": 175,
   "id": "b8d87de0",
   "metadata": {},
   "outputs": [
    {
     "data": {
      "image/png": "[encoded data removed]",
      "text/plain": [
       "<Figure size 1000x800 with 1 Axes>"
      ]
     },
     "metadata": {},
     "output_type": "display_data"
    }
   ],
   "source": [
    "plt.figure(figsize=(10,8))\n",
    "sns.barplot(female , x= 'Device_Type', y= 'Product_Browsing_Time',hue='Total_Purchases',errorbar= None )\n",
    "plt.title('Female')\n",
    "plt.show()"
   ]
  },
  {
   "cell_type": "markdown",
   "id": "2cbbae30",
   "metadata": {},
   "source": [
    "## Take away\n",
    "\n",
    "1. Male customers used mobile and tablet for purchase.\n",
    "2. female customers used Desktop and mobile for purchase."
   ]
  },
  {
   "cell_type": "markdown",
   "id": "5939c516",
   "metadata": {},
   "source": []
  }
 ],
 "metadata": {
  "kernelspec": {
   "display_name": "Python 3 (ipykernel)",
   "language": "python",
   "name": "python3"
  },
  "language_info": {
   "codemirror_mode": {
    "name": "ipython",
    "version": 3
   },
   "file_extension": ".py",
   "mimetype": "text/x-python",
   "name": "python",
   "nbconvert_exporter": "python",
   "pygments_lexer": "ipython3",
   "version": "3.10.9"
  }
 },
 "nbformat": 4,
 "nbformat_minor": 5
}
